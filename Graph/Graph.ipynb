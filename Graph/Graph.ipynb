{
 "cells": [
  {
   "cell_type": "code",
   "execution_count": 47,
   "id": "cd14fcd5",
   "metadata": {},
   "outputs": [],
   "source": [
    "class Graph:\n",
    "    def __init__(self, edges):\n",
    "        self.edges = edges\n",
    "        self.graphDict = {}\n",
    "        \n",
    "        for start, end in edges:\n",
    "            if start in self.graphDict:\n",
    "                self.graphDict[start].append(end)\n",
    "            else:\n",
    "                self.graphDict[start] = [end]\n",
    "                \n",
    "        print(self.graphDict)\n",
    "        \n",
    "    def getPaths(self, start, end, path=[]):\n",
    "        path = path + [start]\n",
    "        \n",
    "        if start == end:\n",
    "            return [path]\n",
    "        \n",
    "        if start not in self.graphDict:\n",
    "            return []\n",
    "        \n",
    "        paths = []\n",
    "        for node in self.graphDict[start]:\n",
    "            if node not in path:\n",
    "                newPaths = self.getPaths(node, end, path)\n",
    "                \n",
    "                for p in newPaths:\n",
    "                    paths.append(p)\n",
    "                    \n",
    "        return paths\n",
    "    \n",
    "    def getShortestPath(self, start, end, path=[]):\n",
    "        path = path + [start]\n",
    "        \n",
    "        if start == end:\n",
    "            return path\n",
    "        \n",
    "        if start not in self.graphDict:\n",
    "            return None\n",
    "        \n",
    "        shortestPath = None\n",
    "        \n",
    "        for node in self.graphDict[start]:\n",
    "            if node not in path:\n",
    "                sp = self.getShortestPath(node, end, path)\n",
    "                \n",
    "                if sp:\n",
    "                    if shortestPath is None or len(sp) < len(shortestPath):\n",
    "                        shortestPath = sp\n",
    "                        \n",
    "        return shortestPath\n",
    "        \n",
    "            "
   ]
  },
  {
   "cell_type": "code",
   "execution_count": 48,
   "id": "199bf9d4",
   "metadata": {},
   "outputs": [
    {
     "name": "stdout",
     "output_type": "stream",
     "text": [
      "{'Mumbai': ['Paris', 'Dubai'], 'Paris': ['Dubai', 'New York'], 'Dubai': ['New York'], 'New York': ['Toronto']}\n"
     ]
    }
   ],
   "source": [
    "\n",
    "routes = [\n",
    "        (\"Mumbai\", \"Paris\"),\n",
    "        (\"Mumbai\", \"Dubai\"),\n",
    "        (\"Paris\", \"Dubai\"),\n",
    "        (\"Paris\", \"New York\"),\n",
    "        (\"Dubai\", \"New York\"),\n",
    "        (\"New York\", \"Toronto\"),\n",
    "    ]\n",
    "\n",
    "routeGraph = Graph(routes)\n",
    "\n",
    "start = 'Mumbai'\n",
    "end = 'New York' \n",
    "\n"
   ]
  },
  {
   "cell_type": "code",
   "execution_count": 49,
   "id": "e64df439",
   "metadata": {},
   "outputs": [
    {
     "name": "stdout",
     "output_type": "stream",
     "text": [
      "the paths are Mumbai , New York is : [['Mumbai', 'Paris', 'Dubai', 'New York'], ['Mumbai', 'Paris', 'New York'], ['Mumbai', 'Dubai', 'New York']]\n"
     ]
    }
   ],
   "source": [
    "print(f\"the paths are {start} , {end} is :\", routeGraph.getPaths(start, end))"
   ]
  },
  {
   "cell_type": "code",
   "execution_count": 50,
   "id": "75b601d7",
   "metadata": {},
   "outputs": [
    {
     "name": "stdout",
     "output_type": "stream",
     "text": [
      "the Shortest paths are Mumbai , New York is : ['Mumbai', 'Paris', 'New York']\n"
     ]
    }
   ],
   "source": [
    "print(f\"the Shortest paths are {start} , {end} is :\", routeGraph.getShortestPath(start, end))"
   ]
  },
  {
   "cell_type": "code",
   "execution_count": null,
   "id": "664bd3ab",
   "metadata": {},
   "outputs": [],
   "source": []
  }
 ],
 "metadata": {
  "kernelspec": {
   "display_name": "Python 3 (ipykernel)",
   "language": "python",
   "name": "python3"
  },
  "language_info": {
   "codemirror_mode": {
    "name": "ipython",
    "version": 3
   },
   "file_extension": ".py",
   "mimetype": "text/x-python",
   "name": "python",
   "nbconvert_exporter": "python",
   "pygments_lexer": "ipython3",
   "version": "3.10.0"
  }
 },
 "nbformat": 4,
 "nbformat_minor": 5
}
