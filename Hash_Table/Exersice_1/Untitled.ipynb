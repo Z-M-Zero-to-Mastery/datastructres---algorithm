{
 "cells": [
  {
   "cell_type": "markdown",
   "id": "0d9b72dd",
   "metadata": {},
   "source": [
    "# Exercise: Hash Table: New York City Weather Analysis\n",
    "\n",
    "### (1) nyc_weather.csv contains new york city weather for first few days in the month of January. Write a program that can answer following,\n",
    "\n",
    "  (a) What was the average temperature in first week of Jan\n",
    "\n",
    "  (b) What was the maximum temperature in first 10 days of Jan\n",
    "\n",
    "  Figure out data structure that is best for this problem"
   ]
  },
  {
   "cell_type": "code",
   "execution_count": 8,
   "id": "d45d0241",
   "metadata": {},
   "outputs": [
    {
     "name": "stdout",
     "output_type": "stream",
     "text": [
      "['Jan 10', '30']\n"
     ]
    }
   ],
   "source": [
    "import requests\n",
    "import pandas as pd                     \n",
    "\n",
    "url = 'https://raw.githubusercontent.com/codebasics/data-structures-algorithms-python/master/data_structures/4_HashTable_2_Collisions/Solution/nyc_weather.csv'\n",
    "res = requests.get(url, allow_redirects=True)\n",
    "with open('nyc_weather.csv','wb') as file:\n",
    "    file.write(res.content)\n",
    "nyc_weather = pd.read_csv('nyc_weather.csv')\n",
    "\n",
    "with open(\"nyc_weather.csv\",\"r\") as f:\n",
    "    for line in f:\n",
    "        tokens = line.split(',')\n",
    "        \n",
    "    print(tokens)\n"
   ]
  },
  {
   "cell_type": "code",
   "execution_count": null,
   "id": "bda724f2",
   "metadata": {},
   "outputs": [],
   "source": []
  }
 ],
 "metadata": {
  "kernelspec": {
   "display_name": "Python 3 (ipykernel)",
   "language": "python",
   "name": "python3"
  },
  "language_info": {
   "codemirror_mode": {
    "name": "ipython",
    "version": 3
   },
   "file_extension": ".py",
   "mimetype": "text/x-python",
   "name": "python",
   "nbconvert_exporter": "python",
   "pygments_lexer": "ipython3",
   "version": "3.10.0"
  }
 },
 "nbformat": 4,
 "nbformat_minor": 5
}
