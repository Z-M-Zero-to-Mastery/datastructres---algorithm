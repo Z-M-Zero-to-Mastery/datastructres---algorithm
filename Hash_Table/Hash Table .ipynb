{
 "cells": [
  {
   "cell_type": "code",
   "execution_count": 1,
   "id": "a68d5efe",
   "metadata": {},
   "outputs": [],
   "source": [
    "class HashTable:\n",
    "    \n",
    "    def __init__(self):\n",
    "        self.Max = 10\n",
    "        self.arr = [None for i in range(self.Max)]\n",
    "\n",
    "    def getHash(self, key):\n",
    "        hash = 0\n",
    "        for char in key:\n",
    "            hash += ord(char)\n",
    "        return hash % self.Max\n",
    "    \n",
    "    def __getitem__(self, index):\n",
    "        h = self.getHash(index)\n",
    "        return self.arr[h]\n",
    "    \n",
    "    def __setitem__(self, key, val):\n",
    "        h = self.getHash(key)\n",
    "        self.arr[h] = val\n",
    "        "
   ]
  },
  {
   "cell_type": "code",
   "execution_count": 2,
   "id": "b374020d",
   "metadata": {},
   "outputs": [],
   "source": [
    "t = HashTable()\n"
   ]
  },
  {
   "cell_type": "code",
   "execution_count": 4,
   "id": "d527551a",
   "metadata": {},
   "outputs": [],
   "source": [
    "t['march 6'] = 23\n",
    "t['march 23'] = 43\n",
    "t['may 4'] = 5"
   ]
  },
  {
   "cell_type": "code",
   "execution_count": 5,
   "id": "a99e7422",
   "metadata": {},
   "outputs": [
    {
     "data": {
      "text/plain": [
       "[None, 5, None, None, None, None, 43, None, None, 23]"
      ]
     },
     "execution_count": 5,
     "metadata": {},
     "output_type": "execute_result"
    }
   ],
   "source": [
    "t.arr"
   ]
  },
  {
   "cell_type": "code",
   "execution_count": 6,
   "id": "e79d065a",
   "metadata": {},
   "outputs": [
    {
     "data": {
      "text/plain": [
       "5"
      ]
     },
     "execution_count": 6,
     "metadata": {},
     "output_type": "execute_result"
    }
   ],
   "source": [
    "t['may 4']"
   ]
  },
  {
   "cell_type": "code",
   "execution_count": null,
   "id": "017f7155",
   "metadata": {},
   "outputs": [],
   "source": [
    "** Hash Table Collision using Chaning"
   ]
  },
  {
   "cell_type": "code",
   "execution_count": 10,
   "id": "ce54a41f",
   "metadata": {},
   "outputs": [],
   "source": [
    "class HashTable:\n",
    "    \n",
    "    def __init__(self):\n",
    "        self.Max = 10\n",
    "        self.arr = [[] for i in range(self.Max)]\n",
    "\n",
    "    def getHash(self, key):\n",
    "        hash = 0\n",
    "        for char in key:\n",
    "            hash += ord(char)\n",
    "        return hash % self.Max\n",
    "    \n",
    "    def __getitem__(self, key):\n",
    "        arr_index = self.getHash(key)\n",
    "        for kv in self.arr[arr_index]:\n",
    "            if kv[0] == key:\n",
    "                return kv[1]\n",
    "            \n",
    "    \n",
    "    def __setitem__(self, key, val):\n",
    "        h = self.getHash(key)\n",
    "        found = False\n",
    "\n",
    "        #This is the case where the array consist of same key value pair needed to be updated        \n",
    "\n",
    "        for idx, element in enumerate(self.arr[h]):\n",
    "            if len(element) == 2 and element[0] == key:\n",
    "                self.arr[h][idx] = (key, val)\n",
    "                found = True\n",
    "                \n",
    "        if not found:\n",
    "            self.arr[h].append((key,val))\n",
    "            \n",
    "    def __delitem__(self, key):\n",
    "        arr_index = self.getHash(key)\n",
    "        for index, kv in enumerate(self.arr[arr_index]):\n",
    "            if kv[0] == key:\n",
    "                print('del', index)\n",
    "                del self.arr[arr_index][index]"
   ]
  },
  {
   "cell_type": "code",
   "execution_count": 11,
   "id": "b08c4133",
   "metadata": {},
   "outputs": [],
   "source": [
    "t = HashTable()\n",
    "t[\"march 6\"] = 310\n",
    "t[\"march 7\"] = 420\n",
    "t[\"march 8\"] = 67\n",
    "t[\"march 17\"] = 63457\n"
   ]
  },
  {
   "cell_type": "code",
   "execution_count": 12,
   "id": "7421b3b5",
   "metadata": {},
   "outputs": [
    {
     "data": {
      "text/plain": [
       "[[('march 7', 420)],\n",
       " [('march 8', 67)],\n",
       " [],\n",
       " [],\n",
       " [],\n",
       " [],\n",
       " [],\n",
       " [],\n",
       " [],\n",
       " [('march 6', 310), ('march 17', 63457)]]"
      ]
     },
     "execution_count": 12,
     "metadata": {},
     "output_type": "execute_result"
    }
   ],
   "source": [
    "t.arr\n"
   ]
  },
  {
   "cell_type": "code",
   "execution_count": 13,
   "id": "251e568c",
   "metadata": {},
   "outputs": [
    {
     "data": {
      "text/plain": [
       "310"
      ]
     },
     "execution_count": 13,
     "metadata": {},
     "output_type": "execute_result"
    }
   ],
   "source": [
    "t['march 6']"
   ]
  },
  {
   "cell_type": "code",
   "execution_count": 14,
   "id": "8f2d1fc9",
   "metadata": {},
   "outputs": [
    {
     "name": "stdout",
     "output_type": "stream",
     "text": [
      "del 0\n"
     ]
    }
   ],
   "source": [
    "del t['march 6']"
   ]
  },
  {
   "cell_type": "raw",
   "id": "8c76cb65",
   "metadata": {},
   "source": []
  },
  {
   "cell_type": "code",
   "execution_count": 15,
   "id": "9af2213a",
   "metadata": {},
   "outputs": [
    {
     "data": {
      "text/plain": [
       "[[('march 7', 420)],\n",
       " [('march 8', 67)],\n",
       " [],\n",
       " [],\n",
       " [],\n",
       " [],\n",
       " [],\n",
       " [],\n",
       " [],\n",
       " [('march 17', 63457)]]"
      ]
     },
     "execution_count": 15,
     "metadata": {},
     "output_type": "execute_result"
    }
   ],
   "source": [
    "t.arr"
   ]
  },
  {
   "cell_type": "code",
   "execution_count": null,
   "id": "381d8b4a",
   "metadata": {},
   "outputs": [],
   "source": []
  }
 ],
 "metadata": {
  "kernelspec": {
   "display_name": "Python 3 (ipykernel)",
   "language": "python",
   "name": "python3"
  },
  "language_info": {
   "codemirror_mode": {
    "name": "ipython",
    "version": 3
   },
   "file_extension": ".py",
   "mimetype": "text/x-python",
   "name": "python",
   "nbconvert_exporter": "python",
   "pygments_lexer": "ipython3",
   "version": "3.10.0"
  }
 },
 "nbformat": 4,
 "nbformat_minor": 5
}
