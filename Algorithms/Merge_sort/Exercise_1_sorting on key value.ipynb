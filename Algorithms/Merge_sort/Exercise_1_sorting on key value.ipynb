{
 "cells": [
  {
   "cell_type": "markdown",
   "id": "5f9ed4bb",
   "metadata": {},
   "source": [
    "    elements = [\n",
    "        { 'name': 'vedanth',   'age': 17, 'time_hours': 1},\n",
    "        { 'name': 'rajab', 'age': 12,  'time_hours': 3},\n",
    "        { 'name': 'vignesh',  'age': 21,  'time_hours': 2.5},\n",
    "        { 'name': 'chinmay',  'age': 24,  'time_hours': 1.5},\n",
    "    ]\n",
    "    \n",
    "merge_sort function should take key from an athlete's marathon log and sort the list as per that key. For example,\n",
    "\n",
    "     merge_sort(elements, key='time_hours', descending=True)\n",
    "     \n",
    "This will sort elements by time_hours and your sorted list will look like,\n",
    "\n",
    "      elements = [\n",
    "        {'name': 'rajab', 'age': 12, 'time_hours': 3},\n",
    "        {'name': 'vignesh', 'age': 21, 'time_hours': 2.5},\n",
    "        {'name': 'chinmay', 'age': 24, 'time_hours': 1.5},\n",
    "        {'name': 'vedanth', 'age': 17, 'time_hours': 1},\n",
    "    ]\n",
    "    \n",
    "But if you call it like this,\n",
    "\n",
    "    merge_sort(elements, key='name')\n",
    "    \n",
    "    elements = [\n",
    "        { 'name': 'chinmay',   'age': 24, 'time_hours': 1.5},\n",
    "        { 'name': 'rajab', 'age': 12,  'time_hours': 3},\n",
    "        { 'name': 'vedanth',  'age': 17,  'time_hours': 1},\n",
    "        { 'name': 'vignesh',  'age': 21,  'time_hours': 2.5},\n",
    "    ]"
   ]
  },
  {
   "cell_type": "code",
   "execution_count": 19,
   "id": "1bc02f1a",
   "metadata": {},
   "outputs": [],
   "source": [
    "def mergeSort(arr, key, descending = False):\n",
    "    if len(arr) == 1:\n",
    "        return arr\n",
    "    \n",
    "    mid = len(arr) // 2\n",
    "    left = arr[:mid]\n",
    "    right = arr[mid:]\n",
    "    \n",
    "    l = mergeSort(left, key, descending = False)\n",
    "    r = mergeSort(right, key, descending = False)\n",
    "    \n",
    "    return mergeSortTwoList(arr, l, r, key, descending = False)\n",
    "\n",
    "def mergeSortTwoList(arr, left, right, key, descending = False):\n",
    "    \n",
    "    merged = []\n",
    "    \n",
    "    if descending:\n",
    "        while len(left) > 0 and len(right) > 0:\n",
    "            if left[0][key] >= right[0][key]:\n",
    "                merged.append(left.pop(0))\n",
    "                \n",
    "            else:\n",
    "                merged.append(right.pop(0))\n",
    "                \n",
    "    else:\n",
    "        while len(left) > 0 and len(right) > 0:\n",
    "            if left[0][key] <= right[0][key]:\n",
    "                merged.append(left.pop(0))\n",
    "                \n",
    "            else:\n",
    "                merged.append(right.pop(0))\n",
    "                \n",
    "    merged.extend(left)\n",
    "    merged.extend(right)\n",
    "    \n",
    "    return merged"
   ]
  },
  {
   "cell_type": "code",
   "execution_count": 20,
   "id": "8e0f0a5d",
   "metadata": {},
   "outputs": [
    {
     "name": "stdout",
     "output_type": "stream",
     "text": [
      "[{'name': 'vedanth', 'age': 17, 'time_hours': 1}, {'name': 'chinmay', 'age': 24, 'time_hours': 1.5}, {'name': 'vignesh', 'age': 21, 'time_hours': 2.5}, {'name': 'rajab', 'age': 12, 'time_hours': 3}]\n"
     ]
    }
   ],
   "source": [
    "elements = [\n",
    "    { 'name': 'vedanth',   'age': 17, 'time_hours': 1},\n",
    "    { 'name': 'rajab', 'age': 12,  'time_hours': 3},\n",
    "    { 'name': 'vignesh',  'age': 21,  'time_hours': 2.5},\n",
    "    { 'name': 'chinmay',  'age': 24,  'time_hours': 1.5},\n",
    "]\n",
    "\n",
    "print(mergeSort(elements, 'time_hours'))"
   ]
  },
  {
   "cell_type": "code",
   "execution_count": 21,
   "id": "c6430ca3",
   "metadata": {},
   "outputs": [
    {
     "name": "stdout",
     "output_type": "stream",
     "text": [
      "[{'name': 'rajab', 'age': 12, 'time_hours': 3}, {'name': 'vedanth', 'age': 17, 'time_hours': 1}, {'name': 'vignesh', 'age': 21, 'time_hours': 2.5}, {'name': 'chinmay', 'age': 24, 'time_hours': 1.5}]\n"
     ]
    }
   ],
   "source": [
    "sortedlist =mergeSort(elements, key ='age')\n",
    "print(sortedlist)"
   ]
  },
  {
   "cell_type": "code",
   "execution_count": null,
   "id": "617cc900",
   "metadata": {},
   "outputs": [],
   "source": []
  }
 ],
 "metadata": {
  "kernelspec": {
   "display_name": "Python 3 (ipykernel)",
   "language": "python",
   "name": "python3"
  },
  "language_info": {
   "codemirror_mode": {
    "name": "ipython",
    "version": 3
   },
   "file_extension": ".py",
   "mimetype": "text/x-python",
   "name": "python",
   "nbconvert_exporter": "python",
   "pygments_lexer": "ipython3",
   "version": "3.10.0"
  }
 },
 "nbformat": 4,
 "nbformat_minor": 5
}
