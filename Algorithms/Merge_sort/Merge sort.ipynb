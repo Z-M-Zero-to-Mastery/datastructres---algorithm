{
 "cells": [
  {
   "cell_type": "markdown",
   "id": "b41d301c",
   "metadata": {},
   "source": [
    "#### Program for merging two sorted list"
   ]
  },
  {
   "cell_type": "code",
   "execution_count": 15,
   "id": "1cd0c6a7",
   "metadata": {},
   "outputs": [],
   "source": [
    "def mergeTwoSortedList(a, b):\n",
    "    sortedList = []\n",
    "    len_a = len(a)\n",
    "    len_b = len(b)\n",
    "    i = j = 0\n",
    "    \n",
    "    while i < len_a and j < len_b:\n",
    "        \n",
    "#         This statment checks if the element in the first array is less than second array if it is true the element from firts array will append into it\n",
    "        if a[i] < b[j]:\n",
    "            sortedList.append(a[i])\n",
    "            i += 1\n",
    "        \n",
    "        else:\n",
    "            sortedList.append(b[j])\n",
    "            j += 1\n",
    "    \n",
    "#     This is the conditon to checks when this type of scenarios comes:\n",
    "#     eg: a = [1,3,5,7]\n",
    "#         b = [2,4]\n",
    "#     Through the above loop it will print only till [1, 2, 3] to avoid this throught below loop\n",
    "    while i < len_a:\n",
    "        sortedList.append(a[i])\n",
    "        i += 1\n",
    "        \n",
    "    while j < len_b:\n",
    "        sortedList.append(b[j])\n",
    "        j += 1\n",
    "    \n",
    "    return sortedList\n",
    "    "
   ]
  },
  {
   "cell_type": "code",
   "execution_count": 16,
   "id": "4ffc4b70",
   "metadata": {},
   "outputs": [
    {
     "data": {
      "text/plain": [
       "[1, 2, 3, 4, 5, 6, 7, 8]"
      ]
     },
     "execution_count": 16,
     "metadata": {},
     "output_type": "execute_result"
    }
   ],
   "source": [
    "a = [1, 3, 5, 7]\n",
    "b = [2, 4, 6, 8]\n",
    "mergeTwoSortedList(a, b)"
   ]
  },
  {
   "cell_type": "markdown",
   "id": "bbc43116",
   "metadata": {},
   "source": [
    "#### Program to sort an single array using Merge sort\n",
    "\n",
    "Merge sort is baisically work like divide and conqure technique. It divides the array into smaller parts and combine them into an sorted array."
   ]
  },
  {
   "cell_type": "code",
   "execution_count": 23,
   "id": "1c3afe93",
   "metadata": {},
   "outputs": [],
   "source": [
    "def mergeSort(arr):\n",
    "    if len(arr) <= 1:\n",
    "        return arr\n",
    "    \n",
    "    mid = len(arr) // 2\n",
    "    left = arr[:mid]\n",
    "    right = arr[mid:]\n",
    "    \n",
    "    l = mergeSort(left)\n",
    "    r = mergeSort(right)\n",
    "    \n",
    "    return mergeTwoSortedList(l, r)\n",
    "\n",
    "def mergeTwoSortedList(a, b):\n",
    "    sortedList = []\n",
    "    len_a = len(a)\n",
    "    len_b = len(b)\n",
    "    i = j = 0\n",
    "    \n",
    "    while i < len_a and j < len_b:\n",
    "        \n",
    "        if a[i] < b[j]:\n",
    "            sortedList.append(a[i])\n",
    "            i += 1\n",
    "        \n",
    "        else:\n",
    "            sortedList.append(b[j])\n",
    "            j += 1\n",
    "\n",
    "    while i < len_a:\n",
    "        sortedList.append(a[i])\n",
    "        i += 1\n",
    "        \n",
    "    while j < len_b:\n",
    "        sortedList.append(b[j])\n",
    "        j += 1\n",
    "    \n",
    "    return sortedList"
   ]
  },
  {
   "cell_type": "code",
   "execution_count": 25,
   "id": "46128171",
   "metadata": {},
   "outputs": [
    {
     "name": "stdout",
     "output_type": "stream",
     "text": [
      "[1, 2, 3, 5, 6, 7, 9]\n"
     ]
    }
   ],
   "source": [
    "array = [1,3,5,6,7,2,9]\n",
    "print(mergeSort(array))"
   ]
  },
  {
   "cell_type": "code",
   "execution_count": 26,
   "id": "7c6e6947",
   "metadata": {},
   "outputs": [
    {
     "name": "stdout",
     "output_type": "stream",
     "text": [
      "[3, 7, 8, 10, 15, 23, 29, 98]\n",
      "[]\n",
      "[3]\n",
      "[2, 7, 8, 9]\n",
      "[1, 2, 3, 4, 5]\n"
     ]
    }
   ],
   "source": [
    "test_cases = [\n",
    "        [10, 3, 15, 7, 8, 23, 98, 29],\n",
    "        [],\n",
    "        [3],\n",
    "        [9,8,7,2],\n",
    "        [1,2,3,4,5]\n",
    "    ]\n",
    "\n",
    "for arr in test_cases:\n",
    "    print(mergeSort(arr))"
   ]
  },
  {
   "cell_type": "markdown",
   "id": "347457e5",
   "metadata": {},
   "source": [
    "#### Above program which make more efficent by reducing the space complexity"
   ]
  },
  {
   "cell_type": "code",
   "execution_count": 47,
   "id": "b6009d3b",
   "metadata": {},
   "outputs": [],
   "source": [
    "def mergeSort(arr):\n",
    "    if len(arr) <= 1:\n",
    "        return arr\n",
    "    \n",
    "    mid = len(arr) // 2\n",
    "    left = arr[:mid]\n",
    "    right = arr[mid:]\n",
    "    \n",
    "    mergeSort(left)\n",
    "    mergeSort(right)\n",
    "    \n",
    "    mergeTwoSortedList(left, right, arr)\n",
    "\n",
    "def mergeTwoSortedList(a, b, arr):\n",
    "    \n",
    "    len_a = len(a)\n",
    "    len_b = len(b)\n",
    "    i = j = k = 0\n",
    "    \n",
    "    while i < len_a and j < len_b:\n",
    "        \n",
    "        if a[i] <= b[j]:\n",
    "            arr[k] = a[i]\n",
    "            i += 1\n",
    "        \n",
    "        else:\n",
    "            arr[k] = b[j]\n",
    "            j += 1\n",
    "            \n",
    "        k += 1\n",
    "\n",
    "    while i < len_a:\n",
    "        arr[k] = a[i]\n",
    "        k += 1\n",
    "        i += 1\n",
    "        \n",
    "    while j < len_b:\n",
    "        arr[k] = b[j]\n",
    "        k += 1\n",
    "        j += 1\n",
    "    "
   ]
  },
  {
   "cell_type": "code",
   "execution_count": 48,
   "id": "b9c8eab6",
   "metadata": {},
   "outputs": [
    {
     "name": "stdout",
     "output_type": "stream",
     "text": [
      "[3, 7, 8, 10, 15, 23, 29, 98]\n",
      "[]\n",
      "[3]\n",
      "[2, 7, 8, 9]\n",
      "[1, 2, 3, 4, 5]\n"
     ]
    }
   ],
   "source": [
    "test_cases = [\n",
    "        [10, 3, 15, 7, 8, 23, 98, 29],\n",
    "        [],\n",
    "        [3],\n",
    "        [9,8,7,2],\n",
    "        [1,2,3,4,5]\n",
    "    ]\n",
    "\n",
    "for arr in test_cases:\n",
    "    mergeSort(arr)\n",
    "    print(arr)"
   ]
  },
  {
   "cell_type": "code",
   "execution_count": null,
   "id": "b17bd399",
   "metadata": {},
   "outputs": [],
   "source": []
  }
 ],
 "metadata": {
  "kernelspec": {
   "display_name": "Python 3 (ipykernel)",
   "language": "python",
   "name": "python3"
  },
  "language_info": {
   "codemirror_mode": {
    "name": "ipython",
    "version": 3
   },
   "file_extension": ".py",
   "mimetype": "text/x-python",
   "name": "python",
   "nbconvert_exporter": "python",
   "pygments_lexer": "ipython3",
   "version": "3.10.0"
  }
 },
 "nbformat": 4,
 "nbformat_minor": 5
}
