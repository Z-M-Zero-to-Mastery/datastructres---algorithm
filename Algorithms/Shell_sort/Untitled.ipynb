{
 "cells": [
  {
   "cell_type": "markdown",
   "id": "74298336",
   "metadata": {},
   "source": [
    "### Shell sort\n",
    "\n",
    "It is an sorting technique which is used to optimize the Insertion sort. The sorting which take place here is it will take elements in gap ie, if the gap = 3 it take each element with gap 3 and compare the selected elements throught this process the weighted element will come into the right side, By reducing the gap till 1 the array will be sorted."
   ]
  },
  {
   "cell_type": "code",
   "execution_count": 17,
   "id": "20a3a311",
   "metadata": {},
   "outputs": [],
   "source": [
    "# This is the code for shell sort (shell sort is only valid for gap is greater than one after that it will become insertion sort)\n",
    "\n",
    "def foo(arr):\n",
    "    size = len(arr)\n",
    "    gap = size // 2\n",
    "    gap = 3\n",
    "    for i in range(gap, size):\n",
    "        anchor = arr[i]\n",
    "        j = i\n",
    "        while j>=gap and arr[j-gap]>anchor:\n",
    "            arr[j] = arr[j-gap]\n",
    "            j -= gap\n",
    "        arr[j] = anchor"
   ]
  },
  {
   "cell_type": "code",
   "execution_count": 19,
   "id": "5bcc8f34",
   "metadata": {},
   "outputs": [
    {
     "name": "stdout",
     "output_type": "stream",
     "text": [
      "[9, 3, 1, 56, 12, 12, 234, 34, 1300]\n"
     ]
    }
   ],
   "source": [
    "elements = [234,3,1,56,34,12,9,12,1300]\n",
    "foo(elements)\n",
    "print(elements)\n"
   ]
  },
  {
   "cell_type": "code",
   "execution_count": 14,
   "id": "096b642a",
   "metadata": {},
   "outputs": [],
   "source": [
    "\n",
    "\n",
    "def shellSort(arr):\n",
    "    size = len(arr)\n",
    "    gap = size //2\n",
    "#     gap = 3\n",
    "    \n",
    "    while gap > 0:\n",
    "        \n",
    "#         here the loop starts from gap till length of array\n",
    "        for i in range(gap, size):\n",
    "\n",
    "#            Here if gap is 4 then the anchor is 34\n",
    "            anchor = arr[i]\n",
    "#            j is 4\n",
    "            j = i\n",
    "    \n",
    "#            this loop checks (anchor = 34) is less than (arr[j-gap] = 234)\n",
    "            while j >= gap and anchor < arr[j-gap]:\n",
    "#                Then it will swap the elements the elements a[j] = 34 with 234\n",
    "                arr[j] = arr[j-gap]\n",
    "#                Then decrement gap j = 4 - 4 (j = 0)\n",
    "                j -= gap\n",
    "        \n",
    "#            And here we will palce the anchor element which is 34 to a[j] which a[0] = 34\n",
    "            arr[j] = anchor\n",
    "        \n",
    "#         This is the statment where we reduce the gap value till 1 or 0 to print the sorted array.\n",
    "#         (Above for loop iteration goes until the gap becomes zero)\n",
    "        gap = gap // 2"
   ]
  },
  {
   "cell_type": "code",
   "execution_count": null,
   "id": "9d903194",
   "metadata": {},
   "outputs": [],
   "source": []
  },
  {
   "cell_type": "code",
   "execution_count": 16,
   "id": "62fb5cf6",
   "metadata": {},
   "outputs": [
    {
     "name": "stdout",
     "output_type": "stream",
     "text": [
      "[1, 2, 6, 7, 9, 12, 17, 21, 23, 53, 61, 78, 89]\n",
      "[]\n",
      "[1, 5, 8, 9]\n",
      "[1, 3, 9, 12, 12, 34, 56, 234, 1300]\n",
      "[5]\n"
     ]
    }
   ],
   "source": [
    "tests = [\n",
    "        [89, 78, 61, 53, 23, 21, 17, 12, 9, 7, 6, 2, 1],\n",
    "        [],\n",
    "        [1,5,8,9],\n",
    "        [234,3,1,56,34,12,9,12,1300],\n",
    "        [5]\n",
    "    ]\n",
    "\n",
    "for elements in tests:\n",
    "    shellSort(elements)\n",
    "    print(elements)"
   ]
  },
  {
   "cell_type": "code",
   "execution_count": null,
   "id": "230ebb85",
   "metadata": {},
   "outputs": [],
   "source": []
  }
 ],
 "metadata": {
  "kernelspec": {
   "display_name": "Python 3 (ipykernel)",
   "language": "python",
   "name": "python3"
  },
  "language_info": {
   "codemirror_mode": {
    "name": "ipython",
    "version": 3
   },
   "file_extension": ".py",
   "mimetype": "text/x-python",
   "name": "python",
   "nbconvert_exporter": "python",
   "pygments_lexer": "ipython3",
   "version": "3.10.0"
  }
 },
 "nbformat": 4,
 "nbformat_minor": 5
}
