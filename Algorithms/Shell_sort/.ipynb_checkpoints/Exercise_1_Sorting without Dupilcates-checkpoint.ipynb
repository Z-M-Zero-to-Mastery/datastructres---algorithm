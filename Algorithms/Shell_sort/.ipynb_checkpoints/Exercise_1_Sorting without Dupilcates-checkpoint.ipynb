{
 "cells": [
  {
   "cell_type": "markdown",
   "id": "8a61a5cc",
   "metadata": {},
   "source": [
    "Sort the elements of a given list using shell sort, but with a slight modification. Remove all the repeating occurances of elements while sorting.\n",
    "\n",
    "Traditionally, when comparing two elements in shell sort, we swap if first element is bigger than second, and do nothing otherwise.\n",
    "\n",
    "In this modified shell sort with duplicate removal, we will swap if first element is bigger than second, and do nothing if element is smaller, but if values are same, we will delete one of the two elements we are comparing before starting the next pass for the reduced gap.\n",
    "\n",
    "For example, given the unsorted list [2, 1, 5, 7, 2, 0, 5, 1, 2, 9, 5, 8, 3], after sorting using shell sort without duplicates, the sorted list would be:\n",
    "\n",
    "    [0, 1, 2, 3, 5, 7, 8, 9]"
   ]
  },
  {
   "cell_type": "code",
   "execution_count": 30,
   "id": "facf58ca",
   "metadata": {},
   "outputs": [],
   "source": [
    "def removeDuplicates(arr):\n",
    "    sortedList = []\n",
    "    for i in arr:\n",
    "        if i not in sortedList:\n",
    "            sortedList.append(i)\n",
    "    \n",
    "    return sortedList\n",
    "\n",
    "def shellSort(arr):\n",
    "    size = len(arr) \n",
    "    gap = size // 2\n",
    "    \n",
    "    while gap > 0:\n",
    "        \n",
    "        for i in range(gap, size):\n",
    "            anchor = arr[i]\n",
    "            j = i\n",
    "            \n",
    "            while j >= gap and anchor < arr[j-gap]:\n",
    "                arr[j] = arr[j-gap]\n",
    "                j -= gap\n",
    "    \n",
    "            arr[j] = anchor\n",
    "        \n",
    "        gap = gap //2\n",
    "        \n",
    "    return removeDuplicates(arr)\n"
   ]
  },
  {
   "cell_type": "code",
   "execution_count": 31,
   "id": "351f0b53",
   "metadata": {},
   "outputs": [
    {
     "name": "stdout",
     "output_type": "stream",
     "text": [
      "[0, 1, 2, 3, 5, 7, 8, 9]\n"
     ]
    }
   ],
   "source": [
    "elements = [2, 1, 5, 7, 2, 0, 5, 1, 2, 9, 5, 8, 3]\n",
    "print(shellSort(elements))\n",
    "# print(elements)"
   ]
  },
  {
   "cell_type": "markdown",
   "id": "00b96d78",
   "metadata": {},
   "source": [
    "#### Solution 2"
   ]
  },
  {
   "cell_type": "code",
   "execution_count": 32,
   "id": "db9a0491",
   "metadata": {},
   "outputs": [
    {
     "name": "stdout",
     "output_type": "stream",
     "text": [
      "Given unsorted list: [2, 1, 5, 7, 2, 0, 5, 1, 2, 9, 5, 8, 3]\n",
      "List after Sorting : [0, 1, 2, 3, 5, 7, 8, 9]\n"
     ]
    }
   ],
   "source": [
    "def shell_sort(arr):\n",
    "    n = len(arr)\n",
    "    div = 2\n",
    "    gap = n//div\n",
    "    \n",
    "    while gap > 0:\n",
    "        index_to_delete = []\n",
    "        \n",
    "        for i in range(gap, n):\n",
    "            temp = arr[i]\n",
    "            j = i\n",
    "            \n",
    "            while j >= gap and arr[j-gap] >= temp:\n",
    "                \n",
    "                if arr[j-gap] == temp:\n",
    "                    index_to_delete.append(j)\n",
    "                arr[j] = arr[j-gap]\n",
    "                j -= gap\n",
    "                \n",
    "            arr[j] = temp\n",
    "            \n",
    "        index_to_delete=list(set(index_to_delete))\n",
    "        index_to_delete.sort()\n",
    "        \n",
    "        if index_to_delete:\n",
    "            \n",
    "            for i in index_to_delete[-1::-1]:\n",
    "                del arr[i]\n",
    "                \n",
    "        div *= 2\n",
    "        n = len(arr)\n",
    "        gap = n//div\n",
    "\n",
    "\n",
    "if __name__ == '__main__':\n",
    "    elements = [2, 1, 5, 7, 2, 0, 5, 1, 2, 9,  5, 8, 3]\n",
    "\n",
    "    print(f'Given unsorted list: {elements}')\n",
    "    shell_sort(elements)\n",
    "    print(f'List after Sorting : {elements}')\n"
   ]
  },
  {
   "cell_type": "code",
   "execution_count": null,
   "id": "73669525",
   "metadata": {},
   "outputs": [],
   "source": []
  }
 ],
 "metadata": {
  "kernelspec": {
   "display_name": "Python 3 (ipykernel)",
   "language": "python",
   "name": "python3"
  },
  "language_info": {
   "codemirror_mode": {
    "name": "ipython",
    "version": 3
   },
   "file_extension": ".py",
   "mimetype": "text/x-python",
   "name": "python",
   "nbconvert_exporter": "python",
   "pygments_lexer": "ipython3",
   "version": "3.10.0"
  }
 },
 "nbformat": 4,
 "nbformat_minor": 5
}
