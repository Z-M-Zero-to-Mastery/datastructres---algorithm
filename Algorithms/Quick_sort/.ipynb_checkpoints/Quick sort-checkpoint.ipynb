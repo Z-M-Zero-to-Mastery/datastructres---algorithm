{
 "cells": [
  {
   "cell_type": "markdown",
   "id": "3a6ddbbc",
   "metadata": {},
   "source": [
    "Implementation of quick sort can be done in two ways either using Haroe partion or lumoto partion. Basic implementaion of qucik sort is selecting an element as pviot and and assign two indexs start and end and compare it with the pivot and if the elements less than pvot lies in left hand side and element greater than pviot lies in right hand side. This process will continue until the list is sorted.\n",
    "Below is implementation using Hare partion"
   ]
  },
  {
   "cell_type": "code",
   "execution_count": 35,
   "id": "9f338dd0",
   "metadata": {},
   "outputs": [],
   "source": [
    "#  Logic for postioning the pviot in right postion \n",
    "    \n",
    "    \n",
    "def swapElements(a, b, elements):\n",
    "    if a != b:\n",
    "        print(elements)\n",
    "        tmp = elements[a]\n",
    "        elements[a] = elements[b]\n",
    "        elements[b] = tmp\n",
    "\n",
    "def partiton(elements):\n",
    "    pviotIndx = 0\n",
    "    pviot = elements[pviotIndx]\n",
    "    \n",
    "    start = pviotIndx + 1\n",
    "    end = len(elements) - 1\n",
    "    \n",
    "    while start < end :\n",
    "    \n",
    "        while elements[start] <= pviot:\n",
    "            start += 1\n",
    "    \n",
    "        while elements[end] > pviot:\n",
    "            end -= 1\n",
    "        \n",
    "        if start < end:\n",
    "            swapElements(start, end, elements)\n",
    "        \n",
    "    swapElements(pviotIndx, end, elements)"
   ]
  },
  {
   "cell_type": "code",
   "execution_count": 37,
   "id": "aa7d638d",
   "metadata": {},
   "outputs": [
    {
     "name": "stdout",
     "output_type": "stream",
     "text": [
      "[11, 9, 29, 7, 2, 15, 28]\n",
      "[11, 9, 2, 7, 29, 15, 28]\n",
      "[7, 9, 2, 11, 29, 15, 28]\n",
      "[7, 2, 9, 11, 29, 15, 28]\n",
      "None\n"
     ]
    }
   ],
   "source": [
    "elements = [11,9,29,7,2,15,28]\n",
    "partiton(elements)\n",
    "print(partiton(elements))"
   ]
  },
  {
   "cell_type": "code",
   "execution_count": 31,
   "id": "2af5e745",
   "metadata": {},
   "outputs": [],
   "source": [
    "def swapElements(a, b, elements):\n",
    "    if a != b:\n",
    "#         print(elements)\n",
    "        tmp = elements[a]\n",
    "        elements[a] = elements[b]\n",
    "        elements[b] = tmp\n",
    "        \n",
    "def quickSort(start, end, array):\n",
    "    if start < end:\n",
    "        p = partiton(start, end, array)\n",
    "        quickSort(start, p-1, array)\n",
    "        quickSort(p+1, end, array)\n",
    "\n",
    "def partiton(start, end, elements):\n",
    "    pviotIndx = start\n",
    "    pviot = elements[pviotIndx]\n",
    "\n",
    "    \n",
    "    while start < end :\n",
    "    \n",
    "        while start < len(elements) and elements[start] <= pviot:\n",
    "            start += 1\n",
    "    \n",
    "        while elements[end] > pviot:\n",
    "            end -= 1\n",
    "        \n",
    "        if start < end:\n",
    "            swapElements(start, end, elements)\n",
    "        \n",
    "    swapElements(pviotIndx, end, elements)\n",
    "    return end"
   ]
  },
  {
   "cell_type": "code",
   "execution_count": 32,
   "id": "36f248d0",
   "metadata": {},
   "outputs": [
    {
     "name": "stdout",
     "output_type": "stream",
     "text": [
      "[2, 7, 9, 11, 15, 28, 29]\n"
     ]
    }
   ],
   "source": [
    "elements = [11,9,29,7,2,15,28]\n",
    "# partiton(elements)\n",
    "quickSort(0 ,len(elements)-1, elements)\n",
    "print(elements)"
   ]
  },
  {
   "cell_type": "code",
   "execution_count": 33,
   "id": "1edc234c",
   "metadata": {},
   "outputs": [
    {
     "name": "stdout",
     "output_type": "stream",
     "text": [
      "[2, 7, 9, 11, 15, 28, 29]\n",
      "[3, 7, 9, 11]\n",
      "[10, 21, 22, 25]\n",
      "[15, 28, 29]\n",
      "[]\n",
      "[6]\n"
     ]
    }
   ],
   "source": [
    "tests = [\n",
    "        [11,9,29,7,2,15,28],\n",
    "        [3, 7, 9, 11],\n",
    "        [25, 22, 21, 10],\n",
    "        [29, 15, 28],\n",
    "        [],\n",
    "        [6]\n",
    "    ]\n",
    "\n",
    "for elements in tests:\n",
    "    quickSort(0, len(elements)-1, elements)\n",
    "    print(elements)"
   ]
  },
  {
   "cell_type": "code",
   "execution_count": null,
   "id": "1a3c1069",
   "metadata": {},
   "outputs": [],
   "source": []
  }
 ],
 "metadata": {
  "kernelspec": {
   "display_name": "Python 3 (ipykernel)",
   "language": "python",
   "name": "python3"
  },
  "language_info": {
   "codemirror_mode": {
    "name": "ipython",
    "version": 3
   },
   "file_extension": ".py",
   "mimetype": "text/x-python",
   "name": "python",
   "nbconvert_exporter": "python",
   "pygments_lexer": "ipython3",
   "version": "3.10.0"
  }
 },
 "nbformat": 4,
 "nbformat_minor": 5
}
