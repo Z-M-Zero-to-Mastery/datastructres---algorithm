{
 "cells": [
  {
   "cell_type": "markdown",
   "id": "d255f65f",
   "metadata": {},
   "source": [
    "Implementing quick sort (https://en.wikipedia.org/wiki/Quicksort) using Lumoto method\n",
    "\n",
    "peusdo code:\n",
    "\n",
    "https://en.wikipedia.org/wiki/Quicksort avaliable in this link"
   ]
  },
  {
   "cell_type": "code",
   "execution_count": 33,
   "id": "97654c9f",
   "metadata": {},
   "outputs": [],
   "source": [
    "\n",
    "def swapElements(a, b, arr):\n",
    "#     it will check if a not equal b\n",
    "    if a!= b:\n",
    "        arr[a], arr[b] = arr[b], arr[a]\n",
    "    \n",
    "def quickSort(array, start, end):\n",
    "    if len(elements) == 1:\n",
    "        return\n",
    "    \n",
    "    if start < end:\n",
    "        p = partition(array, start, end)\n",
    "        \n",
    "#         To sort the left hand side\n",
    "        quickSort(array, start, p-1)\n",
    "    \n",
    "#        To sort the right hand side\n",
    "        quickSort(array, p+1, end)\n",
    "\n",
    "def partition(elements, start, end):\n",
    "    pviotIndx = end\n",
    "    pviot = elements[pviotIndx]\n",
    "    \n",
    "    pIndx = start\n",
    "\n",
    "#     Here eg : [11,9,29,7,2,15,28] first i = o\n",
    "#     when it comes to value 29\n",
    "    for i in range(start, end): \n",
    "#         \n",
    "#        (elements[i] = 11) < (pviot = 28)\n",
    "# ....\n",
    "#        (elements[i] = 29) <= (pviot = 28)\n",
    "        if elements[i] <= pviot:\n",
    "#         it will go call swapElements(0, 0, [11,9,29,7,2,15,28])\n",
    "# ....\n",
    "#         in the case of value 29 swapElements(2, 1,[11,9,29,7,2,15,28] )\n",
    "            swapElements(i, pIndx, elements)\n",
    "#          then it will increment pIndex value\n",
    "            pIndx += 1\n",
    "            \n",
    "    swapElements(pIndx, end, elements)\n",
    "    return pIndx\n",
    "            "
   ]
  },
  {
   "cell_type": "code",
   "execution_count": 25,
   "id": "bf8eb706",
   "metadata": {},
   "outputs": [
    {
     "name": "stdout",
     "output_type": "stream",
     "text": [
      "[11, 9, 29, 7, 2, 15, 28]\n",
      "[11, 9, 29, 7, 2, 15, 28]\n",
      "[11, 9, 7, 29, 2, 15, 28]\n",
      "[11, 9, 7, 2, 29, 15, 28]\n",
      "[11, 9, 7, 2, 15, 29, 28]\n",
      "[11, 9, 7, 2, 15, 28, 29]\n",
      "5\n",
      "[11, 9, 7, 2, 15, 28, 29]\n"
     ]
    }
   ],
   "source": [
    "elements = [11,9,29,7,2,15,28]\n",
    "print(partition(elements, 0, len(elements)-1))\n",
    "# quickSort(0 ,len(elements)-1, elements)\n",
    "print(elements)"
   ]
  },
  {
   "cell_type": "markdown",
   "id": "b976e2c3",
   "metadata": {},
   "source": [
    "##### Output"
   ]
  },
  {
   "cell_type": "code",
   "execution_count": 34,
   "id": "8b4f252f",
   "metadata": {},
   "outputs": [
    {
     "name": "stdout",
     "output_type": "stream",
     "text": [
      "[2, 7, 9, 11, 15, 28, 29]\n"
     ]
    }
   ],
   "source": [
    "quickSort( elements, 0 ,len(elements)-1)\n",
    "print(elements)"
   ]
  },
  {
   "cell_type": "code",
   "execution_count": 35,
   "id": "24b78f9a",
   "metadata": {},
   "outputs": [
    {
     "name": "stdout",
     "output_type": "stream",
     "text": [
      "sorted array: [2, 7, 9, 11, 15, 28, 29]\n",
      "sorted array: [3, 7, 9, 11]\n",
      "sorted array: [10, 21, 22, 25]\n",
      "sorted array: [15, 28, 29]\n",
      "sorted array: []\n",
      "sorted array: [6]\n"
     ]
    }
   ],
   "source": [
    "tests = [\n",
    "        [11,9,29,7,2,15,28],\n",
    "        [3, 7, 9, 11],\n",
    "        [25, 22, 21, 10],\n",
    "        [29, 15, 28],\n",
    "        [],\n",
    "        [6]\n",
    "    ]\n",
    "    # elements = [\"mona\", \"dhaval\", \"aamir\", \"tina\", \"chang\"]\n",
    "\n",
    "for elements in tests:\n",
    "    quickSort(elements, 0, len(elements)-1)\n",
    "    print(f'sorted array: {elements}')"
   ]
  },
  {
   "cell_type": "code",
   "execution_count": null,
   "id": "e43e9c43",
   "metadata": {},
   "outputs": [],
   "source": []
  }
 ],
 "metadata": {
  "kernelspec": {
   "display_name": "Python 3 (ipykernel)",
   "language": "python",
   "name": "python3"
  },
  "language_info": {
   "codemirror_mode": {
    "name": "ipython",
    "version": 3
   },
   "file_extension": ".py",
   "mimetype": "text/x-python",
   "name": "python",
   "nbconvert_exporter": "python",
   "pygments_lexer": "ipython3",
   "version": "3.10.0"
  }
 },
 "nbformat": 4,
 "nbformat_minor": 5
}
