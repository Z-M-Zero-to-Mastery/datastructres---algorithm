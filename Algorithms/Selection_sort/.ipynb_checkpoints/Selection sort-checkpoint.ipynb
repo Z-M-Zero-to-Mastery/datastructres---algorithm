{
 "cells": [
  {
   "cell_type": "markdown",
   "id": "782b0b85",
   "metadata": {},
   "source": [
    "Selection sort is an simple sorting algorithm which gives (n^2) of Big O complexity. The sorting which done it is it will select an element from left side and compare all the elements with it in right hand side and find minimum from it swap it with the left element which we selected this iteration will continue until the array is sorted."
   ]
  },
  {
   "cell_type": "code",
   "execution_count": 5,
   "id": "1679bbdf",
   "metadata": {},
   "outputs": [],
   "source": [
    "def selectionSort(arr):\n",
    "    size = len(arr)\n",
    "    \n",
    "    for i in range(size):\n",
    "#         It will store the first element\n",
    "        minIndx = i\n",
    "        \n",
    "#         It will start iteration from the minIndx which in first iteration it becomes arr [0], in 2nd Iteration it become arr[1]\n",
    "        for j in range(minIndx+1, size):\n",
    "#             It will check if minIndx is greater than element in the right hand side then it will change the minIndx to it.\n",
    "            if arr[minIndx] > arr[j]:\n",
    "                minIndx = j\n",
    "            \n",
    "#         After the first iteration finished it will swap the minIndx with the first element which we selected\n",
    "#         (So in the first position there will place the min element in the array)\n",
    "        arr[i], arr[minIndx] = arr[minIndx], arr[i]"
   ]
  },
  {
   "cell_type": "code",
   "execution_count": 6,
   "id": "435a6cd2",
   "metadata": {},
   "outputs": [
    {
     "name": "stdout",
     "output_type": "stream",
     "text": [
      "[8, 12, 15, 23, 27, 53, 61, 78]\n"
     ]
    }
   ],
   "source": [
    "elements =  [78, 12, 15, 8, 61, 53, 23, 27]\n",
    "selectionSort(elements)\n",
    "print(elements)"
   ]
  },
  {
   "cell_type": "code",
   "execution_count": 7,
   "id": "4a8a2f4e",
   "metadata": {},
   "outputs": [
    {
     "name": "stdout",
     "output_type": "stream",
     "text": [
      "[1, 2, 6, 7, 9, 12, 17, 21, 23, 53, 61, 78, 89]\n",
      "[]\n",
      "[1, 5, 8, 9]\n",
      "[1, 3, 9, 12, 12, 34, 56, 234, 1300]\n",
      "[8, 12, 15, 23, 27, 53, 61, 78]\n",
      "[5]\n"
     ]
    }
   ],
   "source": [
    "    tests = [\n",
    "        [89, 78, 61, 53, 23, 21, 17, 12, 9, 7, 6, 2, 1],\n",
    "        [],\n",
    "        [1,5,8,9],\n",
    "        [234,3,1,56,34,12,9,12,1300],\n",
    "        [78, 12, 15, 8, 61, 53, 23, 27],\n",
    "        [5]\n",
    "    ]\n",
    "    for elements in tests:\n",
    "        selectionSort(elements)\n",
    "        print(elements)\n"
   ]
  },
  {
   "cell_type": "code",
   "execution_count": null,
   "id": "4bc9e1ca",
   "metadata": {},
   "outputs": [],
   "source": []
  }
 ],
 "metadata": {
  "kernelspec": {
   "display_name": "Python 3 (ipykernel)",
   "language": "python",
   "name": "python3"
  },
  "language_info": {
   "codemirror_mode": {
    "name": "ipython",
    "version": 3
   },
   "file_extension": ".py",
   "mimetype": "text/x-python",
   "name": "python",
   "nbconvert_exporter": "python",
   "pygments_lexer": "ipython3",
   "version": "3.10.0"
  }
 },
 "nbformat": 4,
 "nbformat_minor": 5
}
