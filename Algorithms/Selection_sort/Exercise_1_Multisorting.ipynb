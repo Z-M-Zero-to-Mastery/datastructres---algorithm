{
 "cells": [
  {
   "cell_type": "markdown",
   "id": "e37e5f7f",
   "metadata": {},
   "source": [
    "Implement a Multi-Level Sort of a given list of dictionaries based on a given sorting order. If user wants to sort dictionary based on First Key 'A', Then Key 'B', they shall pass list of keys in the order of preference as a list ['A','B']. Your code should be able to sort list of dictionaries for any number of keys in sorting order list.\n",
    "\n",
    "Using this multi-level sort, you should be able to sort any list of dictionaries based on sorting order preference\n",
    "\n",
    "Example: A single dictionary entry contains two keys 'First Name' and 'Last Name'. the list should be sorted first based on 'First Name', then based on 'Last Name', w.r.t. common/same 'First Name' entries.\n",
    "\n",
    "for this, one shall past sorting order of preference list [ 'First Name' , 'Last Name' ]\n",
    "\n",
    "For this, Given the following sequence List: \n",
    "  \n",
    "      [\n",
    "    {'First Name': 'Raj', 'Last Name': 'Nayyar'},\n",
    "    {'First Name': 'Suraj', 'Last Name': 'Sharma'},\n",
    "    {'First Name': 'Karan', 'Last Name': 'Kumar'},\n",
    "    {'First Name': 'Jade', 'Last Name': 'Canary'},\n",
    "    {'First Name': 'Raj', 'Last Name': 'Thakur'},\n",
    "    {'First Name': 'Raj', 'Last Name': 'Sharma'},\n",
    "    {'First Name': 'Kiran', 'Last Name': 'Kamla'},\n",
    "    {'First Name': 'Armaan', 'Last Name': 'Kumar'},\n",
    "    {'First Name': 'Jaya', 'Last Name': 'Sharma'},\n",
    "    {'First Name': 'Ingrid', 'Last Name': 'Galore'},\n",
    "    {'First Name': 'Jaya', 'Last Name': 'Seth'},\n",
    "    {'First Name': 'Armaan', 'Last Name': 'Dadra'},\n",
    "    {'First Name': 'Ingrid', 'Last Name': 'Maverick'},\n",
    "    {'First Name': 'Aahana', 'Last Name': 'Arora'}\n",
    "      ]\n",
    "   \n",
    "Your algorithm should generate sorted list:\n",
    "\n",
    "      [\n",
    "    {'First Name': 'Aahana', 'Last Name': 'Arora'}\n",
    "    {'First Name': 'Armaan', 'Last Name': 'Dadra'}\n",
    "    {'First Name': 'Armaan', 'Last Name': 'Kumar'}\n",
    "    {'First Name': 'Ingrid', 'Last Name': 'Galore'}\n",
    "    {'First Name': 'Ingrid', 'Last Name': 'Maverick'}\n",
    "    {'First Name': 'Jade', 'Last Name': 'Canary'}\n",
    "    {'First Name': 'Jaya', 'Last Name': 'Seth'}\n",
    "    {'First Name': 'Jaya', 'Last Name': 'Sharma'}\n",
    "    {'First Name': 'Karan', 'Last Name': 'Kumar'}\n",
    "    {'First Name': 'Kiran', 'Last Name': 'Kamla'}\n",
    "    {'First Name': 'Raj', 'Last Name': 'Nayyar'}\n",
    "    {'First Name': 'Raj', 'Last Name': 'Sharma'}\n",
    "    {'First Name': 'Raj', 'Last Name': 'Thakur'}\n",
    "    {'First Name': 'Suraj', 'Last Name': 'Sharma'}\n",
    "      ]\n",
    "      \n",
    "      \n",
    "      "
   ]
  },
  {
   "cell_type": "code",
   "execution_count": 25,
   "id": "5b6088b5",
   "metadata": {},
   "outputs": [],
   "source": [
    "def sort(arr, Key):\n",
    "    size = len(arr)\n",
    "    \n",
    "#     This is used to loop trought the last element in reverse order\n",
    "    for k in key[-1::-1]:\n",
    "        \n",
    "        for i in range(size):\n",
    "            minIndx = i\n",
    "        \n",
    "            for j in range(minIndx+1, size):\n",
    "                if arr[minIndx][k] > arr[j][k]:\n",
    "\n",
    "                    minIndx = j\n",
    "           \n",
    "            arr[i], arr[minIndx] = arr[minIndx], arr[i]\n",
    "        "
   ]
  },
  {
   "cell_type": "code",
   "execution_count": 26,
   "id": "297482f3",
   "metadata": {},
   "outputs": [
    {
     "name": "stdout",
     "output_type": "stream",
     "text": [
      "[{'First Name': 'Aahana', 'Last Name': 'Arora'}, {'First Name': 'Armaan', 'Last Name': 'Dadra'}, {'First Name': 'Armaan', 'Last Name': 'Kumar'}, {'First Name': 'Ingrid', 'Last Name': 'Galore'}, {'First Name': 'Ingrid', 'Last Name': 'Maverick'}, {'First Name': 'Jade', 'Last Name': 'Canary'}, {'First Name': 'Jaya', 'Last Name': 'Seth'}, {'First Name': 'Jaya', 'Last Name': 'Sharma'}, {'First Name': 'Karan', 'Last Name': 'Kumar'}, {'First Name': 'Kiran', 'Last Name': 'Kamla'}, {'First Name': 'Raj', 'Last Name': 'Sharma'}, {'First Name': 'Raj', 'Last Name': 'Nayyar'}, {'First Name': 'Raj', 'Last Name': 'Thakur'}, {'First Name': 'Suraj', 'Last Name': 'Sharma'}]\n"
     ]
    }
   ],
   "source": [
    "element =  [\n",
    "    {'First Name': 'Raj', 'Last Name': 'Nayyar'},\n",
    "    {'First Name': 'Suraj', 'Last Name': 'Sharma'},\n",
    "    {'First Name': 'Karan', 'Last Name': 'Kumar'},\n",
    "    {'First Name': 'Jade', 'Last Name': 'Canary'},\n",
    "    {'First Name': 'Raj', 'Last Name': 'Thakur'},\n",
    "    {'First Name': 'Raj', 'Last Name': 'Sharma'},\n",
    "    {'First Name': 'Kiran', 'Last Name': 'Kamla'},\n",
    "    {'First Name': 'Armaan', 'Last Name': 'Kumar'},\n",
    "    {'First Name': 'Jaya', 'Last Name': 'Sharma'},\n",
    "    {'First Name': 'Ingrid', 'Last Name': 'Galore'},\n",
    "    {'First Name': 'Jaya', 'Last Name': 'Seth'},\n",
    "    {'First Name': 'Armaan', 'Last Name': 'Dadra'},\n",
    "    {'First Name': 'Ingrid', 'Last Name': 'Maverick'},\n",
    "    {'First Name': 'Aahana', 'Last Name': 'Arora'}\n",
    "      ]\n",
    "key = ['First Name', 'Last Name']\n",
    "\n",
    "sort(element, key)\n",
    "print(element)"
   ]
  },
  {
   "cell_type": "code",
   "execution_count": null,
   "id": "1f71f5c6",
   "metadata": {},
   "outputs": [],
   "source": []
  }
 ],
 "metadata": {
  "kernelspec": {
   "display_name": "Python 3 (ipykernel)",
   "language": "python",
   "name": "python3"
  },
  "language_info": {
   "codemirror_mode": {
    "name": "ipython",
    "version": 3
   },
   "file_extension": ".py",
   "mimetype": "text/x-python",
   "name": "python",
   "nbconvert_exporter": "python",
   "pygments_lexer": "ipython3",
   "version": "3.10.0"
  }
 },
 "nbformat": 4,
 "nbformat_minor": 5
}
