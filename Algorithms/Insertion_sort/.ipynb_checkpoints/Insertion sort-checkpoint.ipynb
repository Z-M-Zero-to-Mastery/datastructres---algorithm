{
 "cells": [
  {
   "cell_type": "code",
   "execution_count": 2,
   "id": "c7c29d23",
   "metadata": {},
   "outputs": [],
   "source": [
    "def insertionSort(elements):\n",
    "    \n",
    "#     The i starts with 1\n",
    "    for i in range(1, len(elements)):\n",
    "        \n",
    "#         The anchor element become 9\n",
    "        anchor = elements[i]\n",
    "#         j = 0 \n",
    "        j = i - 1\n",
    "        \n",
    "#         It will check the condtio if j >= 0 and the element[j] is greater \n",
    "        while j >= 0 and anchor < elements[j]:\n",
    "#            It will swap the elements it becomes [11,11,29,7,2,15,28]\n",
    "            elements[j+1] = elements[j]\n",
    "#            Decrement the j and j = -1 which exits the while loop\n",
    "            j = j - 1\n",
    "    \n",
    "#         here j = -1 so elements[j+1] (elements[0] = 11) will be placed with anchor value which is 9\n",
    "        elements[j+1] = anchor\n",
    "#     Then the iteration will continue"
   ]
  },
  {
   "cell_type": "code",
   "execution_count": 3,
   "id": "62478bab",
   "metadata": {},
   "outputs": [
    {
     "name": "stdout",
     "output_type": "stream",
     "text": [
      "[2, 7, 9, 11, 15, 28, 29]\n"
     ]
    }
   ],
   "source": [
    "elements = [11,9,29,7,2,15,28]\n",
    "insertionSort(elements)\n",
    "print(elements)"
   ]
  },
  {
   "cell_type": "code",
   "execution_count": null,
   "id": "b702eabb",
   "metadata": {},
   "outputs": [],
   "source": []
  }
 ],
 "metadata": {
  "kernelspec": {
   "display_name": "Python 3 (ipykernel)",
   "language": "python",
   "name": "python3"
  },
  "language_info": {
   "codemirror_mode": {
    "name": "ipython",
    "version": 3
   },
   "file_extension": ".py",
   "mimetype": "text/x-python",
   "name": "python",
   "nbconvert_exporter": "python",
   "pygments_lexer": "ipython3",
   "version": "3.10.0"
  }
 },
 "nbformat": 4,
 "nbformat_minor": 5
}
