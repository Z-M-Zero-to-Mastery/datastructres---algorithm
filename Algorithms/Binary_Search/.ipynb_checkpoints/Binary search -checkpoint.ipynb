{
 "cells": [
  {
   "cell_type": "code",
   "execution_count": 19,
   "id": "f0392f9f",
   "metadata": {},
   "outputs": [],
   "source": [
    "def linearSearch(numberList, numberToFind):\n",
    "    for index, element in enumerate(numberList):\n",
    "        if element == numberToFind:\n",
    "            return index\n",
    "    \n",
    "    return -1\n",
    "\n",
    "def binarySearch(numberList, numberToFind):\n",
    "    leftIndx = 0\n",
    "    rightIndx = len(numberList)-1\n",
    "    midIndx = 0\n",
    "    \n",
    "    while leftIndx <= rightIndx:\n",
    "        midIndx = (leftIndx + rightIndx) // 2\n",
    "        midNumber = numberList[midIndx]\n",
    "        \n",
    "        if midNumber == numberToFind:\n",
    "            return midIndx\n",
    "        \n",
    "        if midNumber < numberToFind:\n",
    "            leftIndx = midIndx + 1\n",
    "        else:\n",
    "            rightIndx = midIndx - 1\n",
    "            \n",
    "    return -1\n",
    "            \n",
    "def recursiveBinarySearch(numberList, numberToFind, leftIndx, rightIndx):\n",
    "    if leftIndx > rightIndx:\n",
    "        return -1\n",
    "    \n",
    "    midIndx = (leftIndx + rightIndx) // 2\n",
    "    \n",
    "    if midIndx >= len(numberList) or midIndx < 0:\n",
    "        return -1\n",
    "    \n",
    "    midNumber = numberList[midIndx]\n",
    "    \n",
    "    if midNumber == numberToFind:\n",
    "        return midIndx\n",
    "    \n",
    "    if midNumber < numberToFind:\n",
    "        leftIndx = midIndx + 1\n",
    "    else:\n",
    "        rightIndx = midIndx - 1\n",
    "        \n",
    "    return recursiveBinarySearch(numberList, numberToFind, leftIndx, rightIndx)\n"
   ]
  },
  {
   "cell_type": "code",
   "execution_count": 20,
   "id": "d429f73c",
   "metadata": {},
   "outputs": [
    {
     "name": "stdout",
     "output_type": "stream",
     "text": [
      "Number found at index 4 using Linear search\n"
     ]
    }
   ],
   "source": [
    "numbers_list = [12, 15, 17, 19, 21, 24, 45, 67]\n",
    "number_to_find = 21\n",
    "\n",
    "index = linearSearch(numbers_list, number_to_find)\n",
    "print(f\"Number found at index {index} using Linear search\")"
   ]
  },
  {
   "cell_type": "code",
   "execution_count": 21,
   "id": "7c55fe7a",
   "metadata": {},
   "outputs": [
    {
     "name": "stdout",
     "output_type": "stream",
     "text": [
      "Number found at index 4 using binary search\n"
     ]
    }
   ],
   "source": [
    "index = binarySearch(numbers_list, number_to_find)\n",
    "print(f\"Number found at index {index} using binary search\")"
   ]
  },
  {
   "cell_type": "code",
   "execution_count": 22,
   "id": "e1ea282a",
   "metadata": {},
   "outputs": [
    {
     "name": "stdout",
     "output_type": "stream",
     "text": [
      "Number found at index 4 using binary search\n"
     ]
    }
   ],
   "source": [
    "\n",
    "index = recursiveBinarySearch(numbers_list, number_to_find, 0, len(numbers_list))\n",
    "print(f\"Number found at index {index} using binary search\")"
   ]
  },
  {
   "cell_type": "code",
   "execution_count": null,
   "id": "271e5850",
   "metadata": {},
   "outputs": [],
   "source": []
  }
 ],
 "metadata": {
  "kernelspec": {
   "display_name": "Python 3 (ipykernel)",
   "language": "python",
   "name": "python3"
  },
  "language_info": {
   "codemirror_mode": {
    "name": "ipython",
    "version": 3
   },
   "file_extension": ".py",
   "mimetype": "text/x-python",
   "name": "python",
   "nbconvert_exporter": "python",
   "pygments_lexer": "ipython3",
   "version": "3.10.0"
  }
 },
 "nbformat": 4,
 "nbformat_minor": 5
}
