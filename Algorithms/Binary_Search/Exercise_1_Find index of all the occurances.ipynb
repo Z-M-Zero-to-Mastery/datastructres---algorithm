{
 "cells": [
  {
   "cell_type": "markdown",
   "id": "e07d9f48",
   "metadata": {},
   "source": [
    "#### Find index of all the occurances of a number from sorted list\n",
    "\n",
    "numbers = [1,4,6,9,11,15,15,15,17,21,34,34,56]\n",
    "number_to_find = 15  \n",
    "\n",
    "##### This should return 5,6,7 as indices containing number 15 in the array"
   ]
  },
  {
   "cell_type": "code",
   "execution_count": 1,
   "id": "f9d4fb24",
   "metadata": {},
   "outputs": [],
   "source": [
    "def binarySearch(numberList, numberToFind):\n",
    "    leftIndx = 0\n",
    "    rightIndx = len(numberList)-1\n",
    "    midIndx = 0\n",
    "    \n",
    "    while leftIndx <= rightIndx:\n",
    "        midIndx = (leftIndx + rightIndx) // 2\n",
    "        midNumber = numberList[midIndx]\n",
    "        \n",
    "        if midNumber == numberToFind:\n",
    "            return midIndx\n",
    "        \n",
    "        if midNumber < numberToFind:\n",
    "            leftIndx = midIndx + 1\n",
    "        else:\n",
    "            rightIndx = midIndx - 1\n",
    "            \n",
    "    return -1\n",
    "\n",
    "def findIndexes(numberList, numberToFind):\n",
    "    index = binarySearch(numberList, numberToFind)\n",
    "    indices = [index]\n",
    "    \n",
    "    i = index - 1\n",
    "    while i >= 0:\n",
    "        if numberList[i] == numberToFind:\n",
    "            indices.append(i)\n",
    "        else:\n",
    "            break\n",
    "        \n",
    "        i = i - 1\n",
    "        \n",
    "    i = index + 1\n",
    "    while i <= len(numberList)-1:\n",
    "        if numberList[i] == numberToFind:\n",
    "            indices.append(i)\n",
    "        else:\n",
    "            break\n",
    "        \n",
    "        i = i + 1\n",
    "        \n",
    "    return ind\n",
    "        \n",
    "        "
   ]
  },
  {
   "cell_type": "code",
   "execution_count": 2,
   "id": "78d31e4b",
   "metadata": {},
   "outputs": [
    {
     "name": "stdout",
     "output_type": "stream",
     "text": [
      "Indices of occurances of 15 are None\n"
     ]
    }
   ],
   "source": [
    "numbers = [1,4,6,9,11,15,15,15,17,21,34,34,56]\n",
    "number_to_find = 15\n",
    "indices = findIndexes(numbers, number_to_find)\n",
    "print(f\"Indices of occurances of {number_to_find} are {indices}\")"
   ]
  },
  {
   "cell_type": "code",
   "execution_count": null,
   "id": "81155a67",
   "metadata": {},
   "outputs": [],
   "source": []
  }
 ],
 "metadata": {
  "kernelspec": {
   "display_name": "Python 3 (ipykernel)",
   "language": "python",
   "name": "python3"
  },
  "language_info": {
   "codemirror_mode": {
    "name": "ipython",
    "version": 3
   },
   "file_extension": ".py",
   "mimetype": "text/x-python",
   "name": "python",
   "nbconvert_exporter": "python",
   "pygments_lexer": "ipython3",
   "version": "3.10.0"
  }
 },
 "nbformat": 4,
 "nbformat_minor": 5
}
