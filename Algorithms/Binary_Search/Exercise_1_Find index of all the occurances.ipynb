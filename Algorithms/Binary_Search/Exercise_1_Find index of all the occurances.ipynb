{
 "cells": [
  {
   "cell_type": "markdown",
   "id": "b1764e1b",
   "metadata": {},
   "source": [
    "#### Find index of all the occurances of a number from sorted list\n",
    "\n",
    "numbers = [1,4,6,9,11,15,15,15,17,21,34,34,56]\n",
    "number_to_find = 15  \n",
    "\n",
    "##### This should return 5,6,7 as indices containing number 15 in the array"
   ]
  },
  {
   "cell_type": "code",
   "execution_count": null,
   "id": "f795ce4d",
   "metadata": {},
   "outputs": [],
   "source": [
    "def FindIndexs(numbers, numberToFind):\n",
    "    lefIndx = 0\n",
    "    rightIndx = len(numbers) - 1\n",
    "    midIndx = 0\n",
    "    \n",
    "    while lefIndx <= rightIndx:\n",
    "        "
   ]
  }
 ],
 "metadata": {
  "kernelspec": {
   "display_name": "Python 3 (ipykernel)",
   "language": "python",
   "name": "python3"
  },
  "language_info": {
   "codemirror_mode": {
    "name": "ipython",
    "version": 3
   },
   "file_extension": ".py",
   "mimetype": "text/x-python",
   "name": "python",
   "nbconvert_exporter": "python",
   "pygments_lexer": "ipython3",
   "version": "3.10.0"
  }
 },
 "nbformat": 4,
 "nbformat_minor": 5
}
