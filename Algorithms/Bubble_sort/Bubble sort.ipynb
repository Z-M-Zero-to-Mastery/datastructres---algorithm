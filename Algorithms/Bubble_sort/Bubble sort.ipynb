{
 "cells": [
  {
   "cell_type": "markdown",
   "id": "6b0c9551",
   "metadata": {},
   "source": [
    " Bubble sort is usually used sorting technique which has time complexity O(n2). WHich swapping the adjacent elements if the first element is greater than the next element. This process will continue until the list is sorted.\n",
    " "
   ]
  },
  {
   "cell_type": "code",
   "execution_count": 17,
   "id": "07ec6391",
   "metadata": {},
   "outputs": [],
   "source": [
    "def bubbleSort(element):\n",
    "    size = len(elements)\n",
    "    \n",
    "    for i in range(size-1):\n",
    "#         Swapped is added to check if the list is already sorted or not\n",
    "        swapped = False\n",
    "        \n",
    "#         Size-1 is to run the loop till the second lst element otherwise while checking the element[j+1] it will show index error\n",
    "        for j in range(size-1):\n",
    "            if element[j] > element[j+1]:\n",
    "                temp = element[j+1]\n",
    "                element[j+1] = element[j]\n",
    "                element[j] = temp\n",
    "                \n",
    "#         If the list is already sorted it will not go to the next iteration it will break the loop and exit\n",
    "        if not swapped:\n",
    "            break"
   ]
  },
  {
   "cell_type": "code",
   "execution_count": 19,
   "id": "fe636662",
   "metadata": {},
   "outputs": [
    {
     "name": "stdout",
     "output_type": "stream",
     "text": [
      "['aamir', 'chang', 'dhaval', 'mona', 'tina']\n"
     ]
    }
   ],
   "source": [
    "    elements = [5,9,2,1,67,34,88,34]\n",
    "    elements = [1,2,3,4,2]\n",
    "    elements = [\"mona\", \"dhaval\", \"aamir\", \"tina\", \"chang\"]\n",
    "\n",
    "    bubbleSort(elements)\n",
    "    print(elements)\n"
   ]
  },
  {
   "cell_type": "code",
   "execution_count": null,
   "id": "a9675b5a",
   "metadata": {},
   "outputs": [],
   "source": []
  }
 ],
 "metadata": {
  "kernelspec": {
   "display_name": "Python 3 (ipykernel)",
   "language": "python",
   "name": "python3"
  },
  "language_info": {
   "codemirror_mode": {
    "name": "ipython",
    "version": 3
   },
   "file_extension": ".py",
   "mimetype": "text/x-python",
   "name": "python",
   "nbconvert_exporter": "python",
   "pygments_lexer": "ipython3",
   "version": "3.10.0"
  }
 },
 "nbformat": 4,
 "nbformat_minor": 5
}
