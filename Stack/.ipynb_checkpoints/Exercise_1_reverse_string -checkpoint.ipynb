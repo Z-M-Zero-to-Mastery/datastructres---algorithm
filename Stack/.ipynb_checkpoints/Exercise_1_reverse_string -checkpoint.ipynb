{
 "cells": [
  {
   "cell_type": "markdown",
   "id": "5bc56190",
   "metadata": {},
   "source": [
    "### Write a function in python that can reverse a string using stack data structure.\n",
    "reverse_string(\"We will conquere COVID-19\") should return \"91-DIVOC ereuqnoc lliw eW\""
   ]
  },
  {
   "cell_type": "code",
   "execution_count": 46,
   "id": "f6fbab05",
   "metadata": {},
   "outputs": [],
   "source": [
    "from collections import deque\n",
    "\n",
    "class Stack:\n",
    "    def __init__(self):\n",
    "        self.container = deque()\n",
    "        \n",
    "    def pushVal(self, val):\n",
    "        self.container.append(val)\n",
    "        \n",
    "    def popVal(self):\n",
    "        return self.container.pop()\n",
    "        \n",
    "    def peek(self):\n",
    "        return self.container[-1]\n",
    "        \n",
    "    def is_empty(self):\n",
    "        return len(self.container)==0\n",
    "    \n",
    "    def size(self):\n",
    "        return len(self.container)\n",
    "    \n"
   ]
  },
  {
   "cell_type": "code",
   "execution_count": 50,
   "id": "d8d27423",
   "metadata": {},
   "outputs": [],
   "source": [
    "def reverse_string(s):\n",
    "    stack = Stack()\n",
    "    \n",
    "    for chr in s:\n",
    "        stack.pushVal(chr)\n",
    "        \n",
    "    rstr = ''\n",
    "    while stack.size()!=0:\n",
    "        rstr += stack.popVal()\n",
    "#             print(stack.popVal())\n",
    "        \n",
    "    return rstr"
   ]
  },
  {
   "cell_type": "code",
   "execution_count": 51,
   "id": "b85e70aa",
   "metadata": {},
   "outputs": [
    {
     "name": "stdout",
     "output_type": "stream",
     "text": [
      "91-IVOC ereuqnoc lliw eW\n"
     ]
    }
   ],
   "source": [
    "print(reverse_string(\"We will conquere COVI-19\"))"
   ]
  },
  {
   "cell_type": "code",
   "execution_count": null,
   "id": "ad2c7ba5",
   "metadata": {},
   "outputs": [],
   "source": []
  },
  {
   "cell_type": "code",
   "execution_count": null,
   "id": "aa0e8f3d",
   "metadata": {},
   "outputs": [],
   "source": []
  }
 ],
 "metadata": {
  "kernelspec": {
   "display_name": "Python 3 (ipykernel)",
   "language": "python",
   "name": "python3"
  },
  "language_info": {
   "codemirror_mode": {
    "name": "ipython",
    "version": 3
   },
   "file_extension": ".py",
   "mimetype": "text/x-python",
   "name": "python",
   "nbconvert_exporter": "python",
   "pygments_lexer": "ipython3",
   "version": "3.10.0"
  }
 },
 "nbformat": 4,
 "nbformat_minor": 5
}
