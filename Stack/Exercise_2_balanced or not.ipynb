{
 "cells": [
  {
   "cell_type": "markdown",
   "id": "37003b8a",
   "metadata": {},
   "source": [
    "### Write a function in python that checks if paranthesis in the string are balanced or not. Possible parantheses are \"{}',\"()\" or \"[]\".\n",
    "\n",
    "is_balanced(\"({a+b})\")     --> True\n",
    "is_balanced(\"))((a+b}{\")   --> False\n",
    "is_balanced(\"((a+b))\")     --> True\n",
    "is_balanced(\"))\")          --> False\n",
    "is_balanced(\"[a+b]*(x+2y)*{gg+kk}\") --> True"
   ]
  },
  {
   "cell_type": "code",
   "execution_count": 2,
   "id": "447f4724",
   "metadata": {},
   "outputs": [],
   "source": [
    "from collections import deque\n",
    "\n",
    "class Stack:\n",
    "    def __init__(self):\n",
    "        self.container = deque()\n",
    "        \n",
    "    def pushVal(self, val):\n",
    "        self.container.append(val)\n",
    "        \n",
    "    def popVal(self):\n",
    "        return self.container.pop()\n",
    "        \n",
    "    def peek(self):\n",
    "        return self.container[-1]\n",
    "        \n",
    "    def is_empty(self):\n",
    "        return len(self.container)==0\n",
    "    \n",
    "    def size(self):\n",
    "        return len(self.container)"
   ]
  },
  {
   "cell_type": "code",
   "execution_count": null,
   "id": "313c8454",
   "metadata": {},
   "outputs": [],
   "source": [
    "# def isBalanced(s):\n",
    "    \n",
    "#     stack = Stack()\n",
    "    \n",
    "#     for val in s:\n",
    "#         stack.pushVal(ch)\n",
    "        \n",
    "    "
   ]
  }
 ],
 "metadata": {
  "kernelspec": {
   "display_name": "Python 3 (ipykernel)",
   "language": "python",
   "name": "python3"
  },
  "language_info": {
   "codemirror_mode": {
    "name": "ipython",
    "version": 3
   },
   "file_extension": ".py",
   "mimetype": "text/x-python",
   "name": "python",
   "nbconvert_exporter": "python",
   "pygments_lexer": "ipython3",
   "version": "3.10.0"
  }
 },
 "nbformat": 4,
 "nbformat_minor": 5
}
