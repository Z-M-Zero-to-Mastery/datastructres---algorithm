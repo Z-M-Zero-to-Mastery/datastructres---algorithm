{
 "cells": [
  {
   "cell_type": "code",
   "execution_count": 19,
   "id": "cae21ea8",
   "metadata": {},
   "outputs": [],
   "source": [
    "class BinaryTreeNode:\n",
    "    def __init__(self, data):\n",
    "        self.data = data\n",
    "        self.left = None\n",
    "        self.right = None\n",
    "        \n",
    "    def addChild(self, val):\n",
    "#         If the value is equal to data in the node then it will return node already exist\n",
    "        if self.data == val:\n",
    "            return\n",
    "        \n",
    "#        If the value is less than value in the node it will go to the left side       \n",
    "        if val < self.data:\n",
    "        \n",
    "#         It checks the if element present in left\n",
    "            if self.left:\n",
    "#               Then it will call recusrively\n",
    "                self.left.addChild(val)\n",
    "            else:\n",
    "#               If there is no elements present then it will create an new node \n",
    "                self.left = BinaryTreeNode(val)\n",
    "                \n",
    "#         If it is greater then go to the right side\n",
    "        else:\n",
    "        \n",
    "#         It checks the if element present in right\n",
    "            if self.right:\n",
    "                self.right.addChild(val)\n",
    "            else:\n",
    "#               If there is no elements present then it will create an new node \n",
    "                self.right = BinaryTreeNode(val)\n",
    "    \n",
    "    def inOrderTraversal(self):\n",
    "        element = []\n",
    "        \n",
    "        if self.left:\n",
    "#             It will apppend the list of left elements to the elements\n",
    "            element += self.left.inOrderTraversal()\n",
    "    \n",
    "#             Base condition\n",
    "        element.append(self.data)\n",
    "            \n",
    "        if self.right:\n",
    "            element += self.right.inOrderTraversal()\n",
    "        \n",
    "        return element\n",
    "    \n",
    "    def searchVal(self, val):\n",
    "        if self.data == val:\n",
    "            return True\n",
    "        \n",
    "        if val < self.data:\n",
    "            if self.left:\n",
    "                return self.left.searchVal(val)\n",
    "            else:\n",
    "                return False\n",
    "        \n",
    "        if val > self.data:\n",
    "            if self.right:\n",
    "                return self.right.searchVal(val)\n",
    "            else:\n",
    "                return False\n",
    "            "
   ]
  },
  {
   "cell_type": "code",
   "execution_count": 20,
   "id": "86ae8a0c",
   "metadata": {},
   "outputs": [],
   "source": [
    "def buildTree(elements):\n",
    "    root = BinaryTreeNode(elements[0])\n",
    "    \n",
    "    for i in range(1, len(elements)):\n",
    "        root.addChild(elements[i])\n",
    "        \n",
    "    return root"
   ]
  },
  {
   "cell_type": "code",
   "execution_count": 22,
   "id": "cad8cdcd",
   "metadata": {},
   "outputs": [
    {
     "name": "stdout",
     "output_type": "stream",
     "text": [
      "[1, 2, 3, 5, 6, 9]\n"
     ]
    },
    {
     "data": {
      "text/plain": [
       "False"
      ]
     },
     "execution_count": 22,
     "metadata": {},
     "output_type": "execute_result"
    }
   ],
   "source": [
    "numberArray = [5, 6, 3, 2, 9, 1, 2]\n",
    "\n",
    "numberTree = buildTree(numberArray)\n",
    "print(numberTree.inOrderTraversal())\n",
    "numberTree.searchVal(3)\n",
    "numberTree.searchVal(30)"
   ]
  },
  {
   "cell_type": "code",
   "execution_count": null,
   "id": "bcc9e0d2",
   "metadata": {},
   "outputs": [],
   "source": []
  },
  {
   "cell_type": "code",
   "execution_count": null,
   "id": "fcafe428",
   "metadata": {},
   "outputs": [],
   "source": []
  }
 ],
 "metadata": {
  "kernelspec": {
   "display_name": "Python 3 (ipykernel)",
   "language": "python",
   "name": "python3"
  },
  "language_info": {
   "codemirror_mode": {
    "name": "ipython",
    "version": 3
   },
   "file_extension": ".py",
   "mimetype": "text/x-python",
   "name": "python",
   "nbconvert_exporter": "python",
   "pygments_lexer": "ipython3",
   "version": "3.10.0"
  }
 },
 "nbformat": 4,
 "nbformat_minor": 5
}
