{
 "cells": [
  {
   "cell_type": "markdown",
   "id": "b4f96046",
   "metadata": {},
   "source": [
    "#### Adding following methods to the class\n",
    "\n",
    "1. find_min(): finds minimum element in entire binary tree\n",
    "2. find_max(): finds maximum element in entire binary tree\n",
    "3. calculate_sum(): calcualtes sum of all elements\n",
    "4. post_order_traversal(): performs post order traversal of a binary tree\n",
    "5. pre_order_traversal(): perofrms pre order traversal of a binary tree"
   ]
  },
  {
   "cell_type": "code",
   "execution_count": 91,
   "id": "dec6ebc4",
   "metadata": {},
   "outputs": [],
   "source": [
    "class BinaryTreeNode:\n",
    "    def __init__(self, data):\n",
    "        self.data = data\n",
    "        self.left = None\n",
    "        self.right = None\n",
    "        \n",
    "    def addChild(self, val):\n",
    "        if self.data == val:\n",
    "            return\n",
    "        \n",
    "        if val < self.data:\n",
    "        \n",
    "            if self.left:\n",
    "                self.left.addChild(val)\n",
    "            else:\n",
    "                self.left = BinaryTreeNode(val)                \n",
    "        else:\n",
    "        \n",
    "            if self.right:\n",
    "                self.right.addChild(val)\n",
    "            else:\n",
    "                self.right = BinaryTreeNode(val)\n",
    "    \n",
    "    def inOrderTraversal(self):\n",
    "        element = []\n",
    "        \n",
    "        if self.left:\n",
    "            element += self.left.inOrderTraversal()\n",
    "            \n",
    "        element.append(self.data)\n",
    "            \n",
    "        if self.right:\n",
    "            element += self.right.inOrderTraversal()\n",
    "        \n",
    "        return element\n",
    "    \n",
    "    def searchVal(self, val):\n",
    "        if self.data == val:\n",
    "            return True\n",
    "        \n",
    "        if val < self.data:\n",
    "            if self.left:\n",
    "                return self.left.searchVal(val)\n",
    "            else:\n",
    "                return False\n",
    "        \n",
    "        if val > self.data:\n",
    "            if self.right:\n",
    "                return self.right.searchVal(val)\n",
    "            else:\n",
    "                return False\n",
    "            \n",
    "#  1 : Finding the minimum value from the tree\n",
    "\n",
    "    def findMin(self):\n",
    "        \n",
    "        if self.left:\n",
    "            return self.left.findMin()\n",
    "        else:\n",
    "            return self.data\n",
    "        \n",
    "#   2 : Finding the maximum value from the tree\n",
    "\n",
    "    def findMax(self):\n",
    "        if self.right:\n",
    "            return self.right.findMax()\n",
    "        else:\n",
    "            return self.data\n",
    "        \n",
    "#   3 : Finding the sum of the elemnts in the tree\n",
    "        \n",
    "    def calculateSum(self):\n",
    "        sum = 0\n",
    "        \n",
    "        if self.left:\n",
    "            sum += self.left.calculateSum()\n",
    "        sum += self.data\n",
    "            \n",
    "        if self.right:\n",
    "            sum += self.right.calculateSum()\n",
    "        \n",
    "        return sum\n",
    "    \n",
    "#  4 : Pre order traversal \n",
    "\n",
    "    def preOrderTraversal(self):\n",
    "        element = []\n",
    "        \n",
    "        element.append(self.data)\n",
    "        \n",
    "        if self.left:\n",
    "            element += self.left.preOrderTraversal()\n",
    "            \n",
    "        if self.right:\n",
    "            element += self.right.preOrderTraversal()\n",
    "        \n",
    "        return element\n",
    "    \n",
    "#  5 : Post order traversal\n",
    "    \n",
    "    def postOrderTraversal(self):\n",
    "        element = []\n",
    "        \n",
    "        \n",
    "        if self.left:\n",
    "            element += self.left.postOrderTraversal()\n",
    "            \n",
    "        if self.right:\n",
    "            element += self.right.postOrderTraversal()\n",
    "            \n",
    "        element.append(self.data)\n",
    "        \n",
    "        return element\n",
    "        "
   ]
  },
  {
   "cell_type": "code",
   "execution_count": 92,
   "id": "4a0fc733",
   "metadata": {},
   "outputs": [],
   "source": [
    "def buildTree(elements):\n",
    "    root = BinaryTreeNode(elements[0])\n",
    "    \n",
    "    for i in range(1, len(elements)):\n",
    "        root.addChild(elements[i])\n",
    "        \n",
    "    return root"
   ]
  },
  {
   "cell_type": "code",
   "execution_count": 93,
   "id": "d026f8c2",
   "metadata": {},
   "outputs": [
    {
     "name": "stdout",
     "output_type": "stream",
     "text": [
      "[7, 12, 14, 15, 20, 23, 27, 88]\n"
     ]
    }
   ],
   "source": [
    "numberArray = [15,12,7,14,27,20,23,88 ]\n",
    "\n",
    "numberTree = buildTree(numberArray)\n",
    "print(numberTree.inOrderTraversal())"
   ]
  },
  {
   "cell_type": "markdown",
   "id": "222b9ed2",
   "metadata": {},
   "source": [
    "#### Outputs"
   ]
  },
  {
   "cell_type": "code",
   "execution_count": 94,
   "id": "b2e06869",
   "metadata": {},
   "outputs": [
    {
     "data": {
      "text/plain": [
       "7"
      ]
     },
     "execution_count": 94,
     "metadata": {},
     "output_type": "execute_result"
    }
   ],
   "source": [
    "numberTree.findMin()"
   ]
  },
  {
   "cell_type": "code",
   "execution_count": 95,
   "id": "22383baf",
   "metadata": {},
   "outputs": [
    {
     "data": {
      "text/plain": [
       "88"
      ]
     },
     "execution_count": 95,
     "metadata": {},
     "output_type": "execute_result"
    }
   ],
   "source": [
    "numberTree.findMax()"
   ]
  },
  {
   "cell_type": "code",
   "execution_count": 99,
   "id": "5dd28b02",
   "metadata": {},
   "outputs": [
    {
     "data": {
      "text/plain": [
       "206"
      ]
     },
     "execution_count": 99,
     "metadata": {},
     "output_type": "execute_result"
    }
   ],
   "source": [
    "numberTree.calculateSum()"
   ]
  },
  {
   "cell_type": "markdown",
   "id": "78cb81b3",
   "metadata": {},
   "source": []
  },
  {
   "cell_type": "code",
   "execution_count": 97,
   "id": "52ca9d70",
   "metadata": {},
   "outputs": [
    {
     "data": {
      "text/plain": [
       "[15, 12, 7, 14, 27, 20, 23, 88]"
      ]
     },
     "execution_count": 97,
     "metadata": {},
     "output_type": "execute_result"
    }
   ],
   "source": [
    "numberTree.preOrderTraversal()"
   ]
  },
  {
   "cell_type": "code",
   "execution_count": 98,
   "id": "1a276477",
   "metadata": {},
   "outputs": [
    {
     "data": {
      "text/plain": [
       "[7, 14, 12, 23, 20, 88, 27, 15]"
      ]
     },
     "execution_count": 98,
     "metadata": {},
     "output_type": "execute_result"
    }
   ],
   "source": [
    "numberTree.postOrderTraversal()"
   ]
  },
  {
   "cell_type": "code",
   "execution_count": null,
   "id": "86efa8e7",
   "metadata": {},
   "outputs": [],
   "source": []
  },
  {
   "cell_type": "code",
   "execution_count": null,
   "id": "277d5318",
   "metadata": {},
   "outputs": [],
   "source": []
  }
 ],
 "metadata": {
  "kernelspec": {
   "display_name": "Python 3 (ipykernel)",
   "language": "python",
   "name": "python3"
  },
  "language_info": {
   "codemirror_mode": {
    "name": "ipython",
    "version": 3
   },
   "file_extension": ".py",
   "mimetype": "text/x-python",
   "name": "python",
   "nbconvert_exporter": "python",
   "pygments_lexer": "ipython3",
   "version": "3.10.0"
  }
 },
 "nbformat": 4,
 "nbformat_minor": 5
}
