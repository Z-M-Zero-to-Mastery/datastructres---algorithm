{
 "cells": [
  {
   "cell_type": "markdown",
   "id": "b48caf51",
   "metadata": {},
   "source": [
    "#### Bulid an tree Data structure and and extend the attributes in node and throught each of that attribute access th tree\n",
    "\n",
    "if __name__ == '__main__':\n",
    "    root_node = build_management_tree()    |||||||||\n",
    "    root_node.print_tree(\"name\") # prints only name hierarchy    ||||||\n",
    "    root_node.print_tree(\"designation\") # prints only designation hierarchy   |||||||\n",
    "    root_node.print_tree(\"both\") # prints both (name and designation) hierarchy  |||||||"
   ]
  },
  {
   "cell_type": "code",
   "execution_count": 40,
   "id": "18070f7d",
   "metadata": {},
   "outputs": [],
   "source": [
    "class TreeNode:\n",
    "    \n",
    "    def __init__(self, name, desigination):\n",
    "        self.name = name\n",
    "        self.desigination = desigination\n",
    "        self.children = []\n",
    "        self.parent = None\n",
    "        \n",
    "    def getLevel(self):\n",
    "        level = 0\n",
    "        p = self.parent\n",
    "        while p:\n",
    "            p = p.parent\n",
    "            level += 1\n",
    "            \n",
    "        return level\n",
    "        \n",
    "    def printTree(self, property_name):\n",
    "        if property_name == 'both':\n",
    "            value = self.name + ' ( '+ self.desigination+' )'\n",
    "            \n",
    "        elif property_name == 'name':\n",
    "            value = self.name\n",
    "            value\n",
    "        else:\n",
    "            value = self.desigination\n",
    "        \n",
    "        spaces = ' ' * self.getLevel() * 3\n",
    "        prefix = spaces + '|--' if self.parent else ''\n",
    "\n",
    "        print(prefix + value)\n",
    "        \n",
    "\n",
    "        if self.children:\n",
    "            for child in self.children:\n",
    "                child.printTree(property_name)\n",
    "     \n",
    "\n",
    "    def addChild(self, child):\n",
    "\n",
    "        child.parent = self\n",
    "        self.children.append(child)"
   ]
  },
  {
   "cell_type": "code",
   "execution_count": 47,
   "id": "5595c069",
   "metadata": {},
   "outputs": [],
   "source": [
    "root = TreeNode('Athul', 'CEO')\n",
    "\n",
    "adarsh = TreeNode('Adarsh', 'Suprevisor')\n",
    "adarsh.addChild(TreeNode('Akhil', 'developer'))\n",
    "\n",
    "\n",
    "\n",
    "gowri = TreeNode('Gowri', 'CC')\n",
    "\n",
    "\n",
    "\n",
    "root.addChild(adarsh)\n",
    "root.addChild(gowri)\n",
    "\n",
    "# print(tv.getLevel())\n",
    "\n"
   ]
  },
  {
   "cell_type": "markdown",
   "id": "58577560",
   "metadata": {},
   "source": [
    "###### Output :\n"
   ]
  },
  {
   "cell_type": "code",
   "execution_count": 48,
   "id": "083dbfd5",
   "metadata": {},
   "outputs": [
    {
     "name": "stdout",
     "output_type": "stream",
     "text": [
      "Athul\n",
      "   |--Adarsh\n",
      "      |--Akhil\n",
      "   |--Gowri\n"
     ]
    }
   ],
   "source": [
    "root.printTree('name')"
   ]
  },
  {
   "cell_type": "code",
   "execution_count": 45,
   "id": "2854bd2d",
   "metadata": {},
   "outputs": [
    {
     "name": "stdout",
     "output_type": "stream",
     "text": [
      "CEO\n",
      "   |--Suprevisor\n",
      "      |--developer\n",
      "   |--CC\n"
     ]
    }
   ],
   "source": [
    "root.printTree('desigination')"
   ]
  },
  {
   "cell_type": "code",
   "execution_count": 46,
   "id": "d2354e90",
   "metadata": {},
   "outputs": [
    {
     "name": "stdout",
     "output_type": "stream",
     "text": [
      "Athul ( CEO )\n",
      "   |--Adarsh ( Suprevisor )\n",
      "      |--Akhil ( developer )\n",
      "   |--Gowri ( CC )\n"
     ]
    }
   ],
   "source": [
    "root.printTree('both')"
   ]
  },
  {
   "cell_type": "code",
   "execution_count": null,
   "id": "e31334ed",
   "metadata": {},
   "outputs": [],
   "source": []
  }
 ],
 "metadata": {
  "kernelspec": {
   "display_name": "Python 3 (ipykernel)",
   "language": "python",
   "name": "python3"
  },
  "language_info": {
   "codemirror_mode": {
    "name": "ipython",
    "version": 3
   },
   "file_extension": ".py",
   "mimetype": "text/x-python",
   "name": "python",
   "nbconvert_exporter": "python",
   "pygments_lexer": "ipython3",
   "version": "3.10.0"
  }
 },
 "nbformat": 4,
 "nbformat_minor": 5
}
