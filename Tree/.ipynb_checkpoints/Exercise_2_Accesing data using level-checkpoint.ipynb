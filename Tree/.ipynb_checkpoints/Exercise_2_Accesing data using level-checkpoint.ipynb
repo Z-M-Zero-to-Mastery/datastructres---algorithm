{
 "cells": [
  {
   "cell_type": "code",
   "execution_count": 4,
   "id": "d413d29d",
   "metadata": {},
   "outputs": [],
   "source": [
    "class TreeNode:\n",
    "    \n",
    "    def __init__(self, data):\n",
    "        self.data = data\n",
    "        self.children = []\n",
    "        self.parent = None\n",
    "        \n",
    "    def getLevel(self):\n",
    "        level = 0\n",
    "        p = self.parent\n",
    "        while p:\n",
    "            p = p.parent\n",
    "            level += 1\n",
    "            \n",
    "        return level\n",
    "        \n",
    "    def printTree(self, level):\n",
    "        if self.getLevel() > level:\n",
    "            return\n",
    "        spaces = ' ' * self.getLevel() * 3\n",
    "        prefix = spaces + '|--' if self.parent else ''\n",
    "        \n",
    "        print(prefix + self.data)\n",
    "    \n",
    "        if self.children:\n",
    "            for child in self.children:\n",
    "                child.printTree(level)\n",
    "     \n",
    "    def addChild(self, child):\n",
    "\n",
    "        child.parent = self\n",
    "        self.children.append(child)"
   ]
  },
  {
   "cell_type": "code",
   "execution_count": 10,
   "id": "cd686c26",
   "metadata": {},
   "outputs": [],
   "source": [
    "root = TreeNode('Electronics')\n",
    "\n",
    "laptop = TreeNode('Laptop')\n",
    "laptop.addChild(TreeNode('MAC'))\n",
    "laptop.addChild(TreeNode('Windows'))\n",
    "laptop.addChild(TreeNode('Linux'))\n",
    "\n",
    "\n",
    "tv = TreeNode('TV')\n",
    "tv.addChild(TreeNode('Samsung'))\n",
    "tv.addChild(TreeNode('Onida'))\n",
    "tv.addChild(TreeNode('LG'))\n",
    "\n",
    "\n",
    "root.addChild(laptop)\n",
    "root.addChild(tv)\n",
    "\n",
    "# print(tv.getLevel())\n"
   ]
  },
  {
   "cell_type": "markdown",
   "id": "67f350c7",
   "metadata": {},
   "source": [
    "##### Output"
   ]
  },
  {
   "cell_type": "code",
   "execution_count": 11,
   "id": "9525b441",
   "metadata": {},
   "outputs": [
    {
     "name": "stdout",
     "output_type": "stream",
     "text": [
      "Electronics\n",
      "   |--Laptop\n",
      "   |--TV\n"
     ]
    }
   ],
   "source": [
    "\n",
    "root.printTree(1)"
   ]
  },
  {
   "cell_type": "code",
   "execution_count": 9,
   "id": "07b14a0e",
   "metadata": {},
   "outputs": [
    {
     "name": "stdout",
     "output_type": "stream",
     "text": [
      "Electronics\n",
      "   |--Laptop\n",
      "      |--MAC\n",
      "      |--Windows\n",
      "      |--Linux\n",
      "   |--TV\n",
      "      |--Samsung\n",
      "      |--Onida\n",
      "      |--LG\n"
     ]
    }
   ],
   "source": [
    "\n",
    "root.printTree(2)"
   ]
  }
 ],
 "metadata": {
  "kernelspec": {
   "display_name": "Python 3 (ipykernel)",
   "language": "python",
   "name": "python3"
  },
  "language_info": {
   "codemirror_mode": {
    "name": "ipython",
    "version": 3
   },
   "file_extension": ".py",
   "mimetype": "text/x-python",
   "name": "python",
   "nbconvert_exporter": "python",
   "pygments_lexer": "ipython3",
   "version": "3.10.0"
  }
 },
 "nbformat": 4,
 "nbformat_minor": 5
}
