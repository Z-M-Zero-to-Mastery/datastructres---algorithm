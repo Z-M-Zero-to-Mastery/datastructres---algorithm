{
 "cells": [
  {
   "cell_type": "code",
   "execution_count": 49,
   "id": "8efa3318",
   "metadata": {},
   "outputs": [],
   "source": [
    "class TreeNode:\n",
    "    \n",
    "    def __init__(self, data):\n",
    "        self.data = data\n",
    "        self.children = []\n",
    "        self.parent = None\n",
    "        \n",
    "    def getLevel(self):\n",
    "        level = 0\n",
    "        p = self.parent\n",
    "        while p:\n",
    "            p = p.parent\n",
    "            level += 1\n",
    "            \n",
    "        return level\n",
    "        \n",
    "    def printTree(self):\n",
    "        spaces = ' ' * self.getLevel() * 3\n",
    "        prefix = spaces + '|--' if self.parent else ''\n",
    "        \n",
    "#         To print the data \n",
    "        print(prefix + self.data)\n",
    "    \n",
    "#         To loop the children list\n",
    "        if self.children:\n",
    "            for child in self.children:\n",
    "                \n",
    "#                 Calling recursively\n",
    "                child.printTree()\n",
    "     \n",
    "#     Adding the child node\n",
    "    def addChild(self, child):\n",
    "        \n",
    "#         Adding th parent ie, if child is laptop the its parent self will be Electronincs\n",
    "        child.parent = self\n",
    "        self.children.append(child)"
   ]
  },
  {
   "cell_type": "code",
   "execution_count": 51,
   "id": "a6b57e2e",
   "metadata": {},
   "outputs": [
    {
     "name": "stdout",
     "output_type": "stream",
     "text": [
      "1\n",
      "Electronics\n",
      "   |--Laptop\n",
      "      |--MAC\n",
      "      |--Windows\n",
      "      |--Linux\n",
      "   |--TV\n",
      "      |--Samsung\n",
      "      |--Onida\n",
      "      |--LG\n"
     ]
    }
   ],
   "source": [
    "root = TreeNode('Electronics')\n",
    "\n",
    "laptop = TreeNode('Laptop')\n",
    "laptop.addChild(TreeNode('MAC'))\n",
    "laptop.addChild(TreeNode('Windows'))\n",
    "laptop.addChild(TreeNode('Linux'))\n",
    "\n",
    "\n",
    "tv = TreeNode('TV')\n",
    "tv.addChild(TreeNode('Samsung'))\n",
    "tv.addChild(TreeNode('Onida'))\n",
    "tv.addChild(TreeNode('LG'))\n",
    "\n",
    "\n",
    "root.addChild(laptop)\n",
    "root.addChild(tv)\n",
    "\n",
    "# print(tv.getLevel())\n",
    "\n",
    "root.printTree()"
   ]
  },
  {
   "cell_type": "code",
   "execution_count": null,
   "id": "833c63c6",
   "metadata": {},
   "outputs": [],
   "source": []
  },
  {
   "cell_type": "code",
   "execution_count": null,
   "id": "b6bad69b",
   "metadata": {},
   "outputs": [],
   "source": []
  }
 ],
 "metadata": {
  "kernelspec": {
   "display_name": "Python 3 (ipykernel)",
   "language": "python",
   "name": "python3"
  },
  "language_info": {
   "codemirror_mode": {
    "name": "ipython",
    "version": 3
   },
   "file_extension": ".py",
   "mimetype": "text/x-python",
   "name": "python",
   "nbconvert_exporter": "python",
   "pygments_lexer": "ipython3",
   "version": "3.10.0"
  }
 },
 "nbformat": 4,
 "nbformat_minor": 5
}
